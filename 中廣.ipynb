{
 "cells": [
  {
   "cell_type": "code",
   "execution_count": 2,
   "metadata": {
    "collapsed": false
   },
   "outputs": [
    {
     "name": "stdout",
     "output_type": "stream",
     "text": [
      "1171.37199998\n"
     ]
    }
   ],
   "source": [
    "# -*- coding:utf-8 -*-                                                                                                                                              \n",
    "import requests, time, sys\n",
    "from datetime import date,datetime,timedelta\n",
    "from bs4 import BeautifulSoup\n",
    "\n",
    "start = time.time()\n",
    "start_time = \"2015/04/20\"\n",
    "end_time =\"2015/01/01\"\n",
    "#date.today().strftime(\"%Y/%m/%d\")\n",
    "cnaText = open('E:\\\\python\\\\bccAticle.txt', 'w') \n",
    "\n",
    "count = 0\n",
    "\n",
    "\n",
    "\n",
    "while(start_time >= end_time):\n",
    "    \n",
    "    year = start_time.split(\"/\")[0]\n",
    "    date = \"\".join(start_time.split(\"/\")[1:3])\n",
    "    web = 'http://dailynews.sina.com/bg/media/bcc/{}/{}.html'\n",
    "    response = requests.get(web.format(year,date))\n",
    "    #print web.format(year,date)\n",
    "    response.encoding = 'utf-8'\n",
    "    soup = BeautifulSoup(response.text)\n",
    "    #print soup\n",
    "    elements = soup.select('#d0_3')[0].select('li')\n",
    "    #print elements\n",
    "       \n",
    "    \n",
    "    \n",
    "    for element in elements:\n",
    "        htmlfor = 'http://dailynews.sina.com/' + element.select('a')[0]['href']\n",
    "        #print htmlfor\n",
    "        web1 = htmlfor\n",
    "        res = requests.get(web1)\n",
    "        res.encoding = 'utf-8'\n",
    "        soup1 = BeautifulSoup(res.text)\n",
    "        #print soup\n",
    "        elements1 = soup1.select('.blk_01')[0]\n",
    "        #print elements\n",
    "        title = elements1.select('#artibodyTitle')[0].text.strip().split()\n",
    "        title_mix = \"\".join(title)\n",
    "\n",
    "        #print title\n",
    "        times = BeautifulSoup(str(elements1.select('.info')[0]).split(str(year))[1].split('<a')[0]).text.strip().split()\n",
    "        #print times\n",
    "        times_mix =str(year) +\"-\".join(times)\n",
    "       \n",
    "        content = ''\n",
    "        items = elements1.select('#artibody')[0].select('p')\n",
    "        for item in items:\n",
    "            content += item.text.strip()\n",
    "\n",
    "        cnaAll = times_mix + '-' + title_mix + '-' + content+'\\n'\n",
    "        cnaText.write(cnaAll.encode('utf-8'))\n",
    "        #print cnaAll\n",
    "        count+=1\n",
    "    next_time = datetime.strptime(start_time,\"%Y/%m/%d\")+timedelta(days=-1)\n",
    "    start_time = next_time.strftime(\"%Y/%m/%d\")\n",
    "    #print times_mix\n",
    "end = time.time()\n",
    "cnaText.write(str(count))\n",
    "cnaText.close()\n",
    "print end - start"
   ]
  }
 ],
 "metadata": {
  "kernelspec": {
   "display_name": "Python 2",
   "language": "python",
   "name": "python2"
  },
  "language_info": {
   "codemirror_mode": {
    "name": "ipython",
    "version": 2
   },
   "file_extension": ".py",
   "mimetype": "text/x-python",
   "name": "python",
   "nbconvert_exporter": "python",
   "pygments_lexer": "ipython2",
   "version": "2.7.6"
  }
 },
 "nbformat": 4,
 "nbformat_minor": 0
}
