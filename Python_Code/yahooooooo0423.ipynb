{
 "cells": [
  {
   "cell_type": "markdown",
   "metadata": {},
   "source": [
    "#雅虎~~法新社"
   ]
  },
  {
   "cell_type": "code",
   "execution_count": null,
   "metadata": {
    "collapsed": false,
    "slideshow": {
     "slide_type": "-"
    }
   },
   "outputs": [],
   "source": [
    "from bs4 import BeautifulSoup\n",
    "import requests,time\n",
    "\n",
    "home = \"https://tw.news.yahoo.com\"\n",
    "url = \"https://tw.news.yahoo.com/afp.cnanews.gov.tw--finance/archive/{}.html\"\n",
    "wealthText = open('D:\\\\python\\\\cnanews4.txt', 'w')\n",
    "count = 0\n",
    "\n",
    "for i in range(26,41):\n",
    "    res = requests.get(url.format(i))\n",
    "    res.encoding=\"utf-8\"\n",
    "    soup = BeautifulSoup(res.text)\n",
    "    entry  = soup.select(\".story\")\n",
    "\n",
    "    for item in entry:\n",
    "        article_url = home+item.select('a')[0]['href']\n",
    "        res = requests.get(article_url)             \n",
    "        res.encoding=\"utf-8\"\n",
    "        soup = BeautifulSoup(res.text)\n",
    "        \n",
    "        entry  = soup.select(\".headline\")\n",
    "        if entry != []:\n",
    "            title = \"\".join(entry[0].text.split())\n",
    "            entry2 = soup.select(\".byline\")\n",
    "            new = entry2[0].text.split(\"|\")[len(entry2[0].text.split(\"|\"))-1].split()[0]\n",
    "            date = entry2[0].text.split(\"|\")[len(entry2[0].text.split(\"|\"))-1].split()[2]\n",
    "            time = entry2[0].text.split(\"|\")[len(entry2[0].text.split(\"|\"))-1].split()[3]\n",
    "\n",
    "            entry3  = soup.select(\".yom-art-content\")[0].select('p')\n",
    "            article = ''\n",
    "            #print len(entry)\n",
    "            for item in entry3:\n",
    "                article += item.text.strip()\n",
    "\n",
    "            aticle_mix  = \"\".join(\"\".join(article.split('\\n')).split())\n",
    "            wealth =  date+\"-\"+time+\"-\"+title+\"-\"+new+\"-\"+article_url+\"-\"+aticle_mix\n",
    "            wealthText.write(wealth.encode(\"utf-8\")+\"\\n\")\n",
    "            count +=1\n",
    "\n",
    "wealthText.write(str(count))\n",
    "wealthText.close()\n"
   ]
  },
  {
   "cell_type": "markdown",
   "metadata": {},
   "source": [
    "# TEST"
   ]
  },
  {
   "cell_type": "code",
   "execution_count": null,
   "metadata": {
    "collapsed": false
   },
   "outputs": [],
   "source": [
    "from bs4 import BeautifulSoup\n",
    "import requests,time\n",
    "\n",
    "home = \"https://tw.news.yahoo.com\"\n",
    "url = \"https://tw.news.yahoo.com/chinatimes.com.tw--finance/archive/{}.html\"\n",
    "wealthText = open('D:\\\\python\\\\chinatimes.txt', 'w')\n",
    "count = 0\n",
    "\n",
    "for i in range(1,41):\n",
    "    res = requests.get(url.format(i))\n",
    "    res.encoding=\"utf-8\"\n",
    "    soup = BeautifulSoup(res.text)\n",
    "    entry  = soup.select(\".story\")\n",
    "\n",
    "    for item in entry:\n",
    "        article_url = home+item.select('a')[0]['href']\n",
    "        res = requests.get(article_url)             \n",
    "        res.encoding=\"utf-8\"\n",
    "        soup = BeautifulSoup(res.text)   \n",
    "        \n",
    "        entry  = soup.select(\".headline\")\n",
    "        if entry != []:\n",
    "            title = \"\".join(entry[0].text.split())\n",
    "            entry2 = soup.select(\".byline\")\n",
    "            new = entry2[0].text.split(\"|\")[len(entry2[0].text.split(\"|\"))-1].split()[0]\n",
    "            date = entry2[0].text.split(\"|\")[len(entry2[0].text.split(\"|\"))-1].split()[2]\n",
    "            time = entry2[0].text.split(\"|\")[len(entry2[0].text.split(\"|\"))-1].split()[3]\n",
    "\n",
    "            entry3  = soup.select(\".yom-art-content\")[0].select('p')\n",
    "            article = ''\n",
    "            #print len(entry)\n",
    "            for item in entry3:\n",
    "                article += item.text.strip()\n",
    "\n",
    "            aticle_mix  = \"\".join(\"\".join(article.split('\\n')).split())\n",
    "            wealth =  date+\"-\"+time+\"-\"+title+\"-\"+new+\"-\"+article_url+\"-\"+aticle_mix\n",
    "            wealthText.write(wealth.encode(\"utf-8\")+\"\\n\")\n",
    "            count +=1\n",
    "\n",
    "wealthText.write(str(count))\n",
    "wealthText.close()\n"
   ]
  },
  {
   "cell_type": "code",
   "execution_count": null,
   "metadata": {
    "collapsed": true
   },
   "outputs": [],
   "source": []
  },
  {
   "cell_type": "code",
   "execution_count": 5,
   "metadata": {
    "collapsed": false
   },
   "outputs": [
    {
     "name": "stdout",
     "output_type": "stream",
     "text": [
      "（法新社瑞士達佛斯24日電）    馬來西亞貿易部長接受法新社訪問表示，東南亞國家協會（ASEAN）今年底將正式自稱為單一市場，但是要在東南亞國協10個會員國內自由旅行等「大事」則要等到2020年。馬來西亞今年擔任東南亞國協輪值主席國。貿易部長慕斯達法（Mustapa Mohamed）說：「我們將自行宣布為東南亞國協經濟共同體（ASEAN EconomicCommunity）。」他在達佛斯「世界經濟論壇」會議外說：「我們並未完全整合，也尚未調和，2015年要為未來更大的事作準備。」慕斯達法說：「到2015年底前我們就會將近達成，但是像無國界旅行的大事...要等到2020年。」他又說：「重要的是我們做出承諾，而不是說我們退縮。」東南亞國協是有著6億人口的市場，先前設定2015年前，要整合區域經濟成立像歐洲聯盟的單一市場，取消關稅，並讓技術勞工自由流動。慕斯達法承認要等到2020年，人們才會在取消非關稅障礙及技術勞工流通等方面，「看到東南亞國協更多的經濟整合」。他表示，今年底前，「商品和服務移動將更為自由，但不是商品和服務自由流通」。（譯者：中央社羅苑韶）\n"
     ]
    }
   ],
   "source": [
    "from bs4 import BeautifulSoup\n",
    "import requests\n",
    "\n",
    "res = requests.get(\"https://tw.news.yahoo.com/%E6%9D%B1%E5%8D%97%E4%BA%9E%E5%9C%8B%E5%8D%94%E5%B9%B4%E5%BA%95%E5%B0%87%E8%87%AA%E8%A1%8C%E5%AE%A3%E5%B8%83%E5%96%AE-%E5%B8%82%E5%A0%B4-142005688.html\")\n",
    "res.encoding=\"utf-8\"\n",
    "soup = BeautifulSoup(res.text)\n",
    "entry  = soup.select(\".yom-art-content\")[0].select('p')\n",
    "content = ''\n",
    "#print len(entry)\n",
    "for item in entry:\n",
    "    content += item.text.strip()\n",
    "\n",
    "aticle2  = \"\".join(content.split('\\n'))\n",
    "print aticle2"
   ]
  },
  {
   "cell_type": "code",
   "execution_count": 10,
   "metadata": {
    "collapsed": false
   },
   "outputs": [
    {
     "name": "stdout",
     "output_type": "stream",
     "text": [
      "法新社\n",
      "2015年1月23日\n",
      "上午11:05\n",
      "夢工廠將裁500人砍製片量\n"
     ]
    }
   ],
   "source": [
    "from bs4 import BeautifulSoup\n",
    "import requests\n",
    "\n",
    "url = \"https://tw.news.yahoo.com\"\n",
    "res = requests.get(\"https://tw.news.yahoo.com/%E5%A4%A2%E5%B7%A5%E5%BB%A0%E5%B0%87%E8%A3%81500%E4%BA%BA-%E7%A0%8D%E8%A3%BD%E7%89%87%E9%87%8F-030503100--finance.html\")\n",
    "res.encoding=\"utf-8\"\n",
    "soup = BeautifulSoup(res.text)\n",
    "entry  = soup.select(\".headline\")\n",
    "title = \"\".join(entry[0].text.split())\n",
    "\n",
    "entry2 = soup.select(\".byline\")\n",
    "new = entry2[0].text.split(\"|\")[len(entry2[0].text.split(\"|\"))-1].split()[0]\n",
    "print new \n",
    "date = entry2[0].text.split(\"|\")[len(entry2[0].text.split(\"|\"))-1].split()[2]\n",
    "print date\n",
    "time = entry2[0].text.split(\"|\")[len(entry2[0].text.split(\"|\"))-1].split()[3]\n",
    "print time\n",
    "print title "
   ]
  },
  {
   "cell_type": "code",
   "execution_count": null,
   "metadata": {
    "collapsed": true
   },
   "outputs": [],
   "source": []
  },
  {
   "cell_type": "code",
   "execution_count": null,
   "metadata": {
    "collapsed": true
   },
   "outputs": [],
   "source": []
  },
  {
   "cell_type": "code",
   "execution_count": null,
   "metadata": {
    "collapsed": true
   },
   "outputs": [],
   "source": []
  },
  {
   "cell_type": "code",
   "execution_count": null,
   "metadata": {
    "collapsed": true
   },
   "outputs": [],
   "source": []
  },
  {
   "cell_type": "code",
   "execution_count": null,
   "metadata": {
    "collapsed": true
   },
   "outputs": [],
   "source": []
  },
  {
   "cell_type": "code",
   "execution_count": null,
   "metadata": {
    "collapsed": true
   },
   "outputs": [],
   "source": []
  }
 ],
 "metadata": {
  "kernelspec": {
   "display_name": "Python 2",
   "language": "python",
   "name": "python2"
  }
 },
 "nbformat": 4,
 "nbformat_minor": 0
}
