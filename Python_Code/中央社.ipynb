{
 "cells": [
  {
   "cell_type": "markdown",
   "metadata": {},
   "source": [
    "###中央社 final版本"
   ]
  },
  {
   "cell_type": "code",
   "execution_count": 75,
   "metadata": {
    "collapsed": false,
    "scrolled": true
   },
   "outputs": [
    {
     "name": "stdout",
     "output_type": "stream",
     "text": [
      "6791.62199998\n"
     ]
    }
   ],
   "source": [
    "# -*- coding:utf-8 -*-                                                                                                                                              \n",
    "import requests, time, sys\n",
    "from datetime import date,datetime,timedelta\n",
    "from bs4 import BeautifulSoup\n",
    "\n",
    "start = time.time()\n",
    "start_time = \"2015/04/20\"\n",
    "end_time =\"2015/01/01\"\n",
    "#date.today().strftime(\"%Y/%m/%d\")\n",
    "cnaText = open('E:\\\\python\\\\cnaAticle.txt', 'w') \n",
    "\n",
    "count = 0\n",
    "\n",
    "\n",
    "\n",
    "while(start_time >= end_time):\n",
    "    \n",
    "    year = start_time.split(\"/\")[0]\n",
    "    date = \"\".join(start_time.split(\"/\")[1:3])\n",
    "    web = 'http://dailynews.sina.com/bg/media/cna/{}/{}.html'\n",
    "    response = requests.get(web.format(year,date))\n",
    "    #print web.format(year,date)\n",
    "    response.encoding = 'utf-8'\n",
    "    soup = BeautifulSoup(response.text)\n",
    "    #print soup\n",
    "    elements = soup.select('#d0_2')[0].select('li')\n",
    "    #print elements\n",
    "       \n",
    "    \n",
    "    \n",
    "    for element in elements:\n",
    "        htmlfor = 'http://dailynews.sina.com/' + element.select('a')[0]['href']\n",
    "        #print htmlfor\n",
    "        web1 = htmlfor\n",
    "        res = requests.get(web1)\n",
    "        res.encoding = 'utf-8'\n",
    "        soup1 = BeautifulSoup(res.text)\n",
    "        #print soup\n",
    "        elements1 = soup1.select('.blk_01')[0]\n",
    "        #print elements\n",
    "        title = elements1.select('#artibodyTitle')[0].text.strip().split()\n",
    "        title_mix = \"\".join(title)\n",
    "\n",
    "        #print title\n",
    "        times = BeautifulSoup(str(elements1.select('.info')[0]).split(str(year))[1].split('<a')[0]).text.strip().split()\n",
    "        #print times\n",
    "        times_mix =str(year) +\"-\".join(times)\n",
    "       \n",
    "        content = ''\n",
    "        items = elements1.select('#artibody')[0].select('p')\n",
    "        for item in items:\n",
    "            content += item.text.strip()\n",
    "\n",
    "        cnaAll = times_mix + '-' + title_mix + '-' + content+'\\n'\n",
    "        cnaText.write(cnaAll.encode('utf-8'))\n",
    "        #print cnaAll\n",
    "    next_time = datetime.strptime(start_time,\"%Y/%m/%d\")+timedelta(days=-1)\n",
    "    start_time = next_time.strftime(\"%Y/%m/%d\")\n",
    "    #print times_mix\n",
    "end = time.time()\n",
    "cnaText.close()\n",
    "print end - start"
   ]
  },
  {
   "cell_type": "markdown",
   "metadata": {},
   "source": [
    "###內文測試"
   ]
  },
  {
   "cell_type": "code",
   "execution_count": 43,
   "metadata": {
    "collapsed": false
   },
   "outputs": [
    {
     "name": "stdout",
     "output_type": "stream",
     "text": [
      "億光2月營收  年增3成,2014年03月09日 23:49,（中央社記者韓婷婷台北10日電）億光2月合併營收18.85億元，月減10.53%，不過年增30.64%。累計前2個月合併營收39.93億元，年增28.99%，3月進入產業旺季營運開始加溫。億光積極投入LED照明品牌，今年LED照明出貨可望呈倍數成長，法人認為，億光照明業績將在下半年顯著躍升，另外來自TV的背光表現也會轉好。1030310\n",
      "\n",
      "0.483999967575\n"
     ]
    }
   ],
   "source": [
    "# -*- coding:utf-8 -*-                                                                                                                                              \n",
    "import requests, time, sys\n",
    "from bs4 import BeautifulSoup\n",
    "start = time.time()\n",
    "count = 0\n",
    "year = 2014\n",
    "web = 'http://dailynews.sina.com/bg/tw/twfinance/cna/20140309/23495532940.html'\n",
    "response = requests.get(web)\n",
    "response.encoding = 'utf-8'\n",
    "soup = BeautifulSoup(response.text)\n",
    "#print soup\n",
    "elements = soup.select('.blk_01')[0]\n",
    "#print elements\n",
    "title = elements.select('#artibodyTitle')[0].text.strip()\n",
    "#print title\n",
    "times = str(year) + BeautifulSoup(str(elements.select('.info')[0]).split(str(year))[1].split('<a')[0]).text.strip()\n",
    "#print times\n",
    "content = ''\n",
    "items = elements.select('#artibody')[0].select('p')\n",
    "for item in items:\n",
    "    content += item.text.strip()\n",
    "print title + ',' + times + ',' + content + '\\n'\n",
    "end = time.time()\n",
    "print end - start"
   ]
  },
  {
   "cell_type": "code",
   "execution_count": 15,
   "metadata": {
    "collapsed": false
   },
   "outputs": [
    {
     "name": "stdout",
     "output_type": "stream",
     "text": [
      "0421\n"
     ]
    }
   ],
   "source": [
    "from datetime import date,datetime\n",
    "\n",
    "start_time = date.today().strftime(\"%Y/%m/%d\")\n",
    "end_time =\"2015/04/10\"\n",
    "\n",
    "print \"\".join(start_time.split(\"/\")[1:3])\n"
   ]
  },
  {
   "cell_type": "code",
   "execution_count": 26,
   "metadata": {
    "collapsed": false
   },
   "outputs": [
    {
     "name": "stdout",
     "output_type": "stream",
     "text": [
      "-\n"
     ]
    }
   ],
   "source": [
    "print u'-'"
   ]
  },
  {
   "cell_type": "code",
   "execution_count": 39,
   "metadata": {
    "collapsed": false
   },
   "outputs": [
    {
     "name": "stdout",
     "output_type": "stream",
     "text": [
      "2015/04/20\n",
      "2015/04/19\n",
      "\n"
     ]
    }
   ],
   "source": [
    "start_time = \"2015/04/20\"\n",
    "next_time = datetime.strptime(start_time,\"%Y/%m/%d\")+timedelta(days=-1)\n",
    "print start_time\n",
    "print next_time.strftime(\"%Y/%m/%d\")\n",
    "if start_time > next_time.strftime(\"%Y/%m/%d\"):\n",
    "    print"
   ]
  },
  {
   "cell_type": "code",
   "execution_count": null,
   "metadata": {
    "collapsed": true
   },
   "outputs": [],
   "source": []
  }
 ],
 "metadata": {
  "kernelspec": {
   "display_name": "Python 2",
   "language": "python",
   "name": "python2"
  },
  "language_info": {
   "codemirror_mode": {
    "name": "ipython",
    "version": 2
   },
   "file_extension": ".py",
   "mimetype": "text/x-python",
   "name": "python",
   "nbconvert_exporter": "python",
   "pygments_lexer": "ipython2",
   "version": "2.7.6"
  }
 },
 "nbformat": 4,
 "nbformat_minor": 0
}
