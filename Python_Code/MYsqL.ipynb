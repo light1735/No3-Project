{
 "cells": [
  {
   "cell_type": "markdown",
   "metadata": {},
   "source": [
    "# Money"
   ]
  },
  {
   "cell_type": "code",
   "execution_count": 13,
   "metadata": {
    "collapsed": false
   },
   "outputs": [],
   "source": [
    "import MySQLdb,io\n",
    "\n",
    "cnx = MySQLdb.connect(\"localhost\",\"root\",\"123456\",\"news.db\",charset=\"utf8\")\n",
    "cursor = cnx.cursor()\n",
    "\n",
    "\n",
    "fin=open('E:/mysql/news/newNews/MoneyDJ_2015.txt')\n",
    "lines=fin.readlines()\n",
    "\n",
    "for i in range(0,len(lines)-1):#len(lines)\n",
    "    datain = lines[i].split(',')\n",
    "    #print type(datain[0])\n",
    "    add_record=\"INSERT INTO moneydj_2015 \\\n",
    "                (ID,Title,Date,Time,Viewer,Web,Content) \\\n",
    "                VALUES (%s, %s, %s, %s, %s, %s, %s)\"\n",
    "    if len(datain) < 7:\n",
    "        cursor.execute(add_record,(datain[0],datain[1],datain[2],datain[3],datain[4],datain[5],\"Null\"))\n",
    "    else:\n",
    "        cursor.execute(add_record,(datain[0],datain[1],datain[2],datain[3],datain[4],datain[5],datain[6]))\n",
    "    #print datain[6]\n",
    "\n",
    "#\n",
    "cnx.commit()\n",
    "cursor.close()\n",
    "cnx.close()\n",
    "\n"
   ]
  },
  {
   "cell_type": "code",
   "execution_count": 66,
   "metadata": {
    "collapsed": false
   },
   "outputs": [],
   "source": [
    "cursor.close()\n",
    "cnx.close()\n"
   ]
  },
  {
   "cell_type": "code",
   "execution_count": null,
   "metadata": {
    "collapsed": true
   },
   "outputs": [],
   "source": []
  },
  {
   "cell_type": "code",
   "execution_count": 5,
   "metadata": {
    "collapsed": false
   },
   "outputs": [
    {
     "ename": "KeyboardInterrupt",
     "evalue": "",
     "output_type": "error",
     "traceback": [
      "\u001b[1;31m---------------------------------------------------------------------------\u001b[0m",
      "\u001b[1;31mKeyboardInterrupt\u001b[0m                         Traceback (most recent call last)",
      "\u001b[1;32m<ipython-input-5-4bb233aea22b>\u001b[0m in \u001b[0;36m<module>\u001b[1;34m()\u001b[0m\n\u001b[0;32m     12\u001b[0m     \u001b[1;31m#print type(datain[0])\u001b[0m\u001b[1;33m\u001b[0m\u001b[1;33m\u001b[0m\u001b[0m\n\u001b[0;32m     13\u001b[0m     \u001b[0madd_record\u001b[0m\u001b[1;33m=\u001b[0m\u001b[1;34m\"UPDATE moneydj_2014 SET ID = (%s) \"\u001b[0m\u001b[1;33m\u001b[0m\u001b[0m\n\u001b[1;32m---> 14\u001b[1;33m     \u001b[0mcursor\u001b[0m\u001b[1;33m.\u001b[0m\u001b[0mexecute\u001b[0m\u001b[1;33m(\u001b[0m\u001b[0madd_record\u001b[0m\u001b[1;33m,\u001b[0m\u001b[1;33m(\u001b[0m\u001b[0mdatain\u001b[0m\u001b[1;33m[\u001b[0m\u001b[1;36m0\u001b[0m\u001b[1;33m]\u001b[0m\u001b[1;33m)\u001b[0m\u001b[1;33m)\u001b[0m\u001b[1;33m\u001b[0m\u001b[0m\n\u001b[0m\u001b[0;32m     15\u001b[0m     \u001b[1;31m#print datain[6]\u001b[0m\u001b[1;33m\u001b[0m\u001b[1;33m\u001b[0m\u001b[0m\n\u001b[0;32m     16\u001b[0m \u001b[1;33m\u001b[0m\u001b[0m\n",
      "\u001b[1;32mC:\\Python27\\lib\\site-packages\\MySQLdb\\cursors.pyc\u001b[0m in \u001b[0;36mexecute\u001b[1;34m(self, query, args)\u001b[0m\n\u001b[0;32m    172\u001b[0m             \u001b[1;32mdel\u001b[0m \u001b[0mtb\u001b[0m\u001b[1;33m\u001b[0m\u001b[0m\n\u001b[0;32m    173\u001b[0m             \u001b[0mself\u001b[0m\u001b[1;33m.\u001b[0m\u001b[0mmessages\u001b[0m\u001b[1;33m.\u001b[0m\u001b[0mappend\u001b[0m\u001b[1;33m(\u001b[0m\u001b[1;33m(\u001b[0m\u001b[0mexc\u001b[0m\u001b[1;33m,\u001b[0m \u001b[0mvalue\u001b[0m\u001b[1;33m)\u001b[0m\u001b[1;33m)\u001b[0m\u001b[1;33m\u001b[0m\u001b[0m\n\u001b[1;32m--> 174\u001b[1;33m             \u001b[0mself\u001b[0m\u001b[1;33m.\u001b[0m\u001b[0merrorhandler\u001b[0m\u001b[1;33m(\u001b[0m\u001b[0mself\u001b[0m\u001b[1;33m,\u001b[0m \u001b[0mexc\u001b[0m\u001b[1;33m,\u001b[0m \u001b[0mvalue\u001b[0m\u001b[1;33m)\u001b[0m\u001b[1;33m\u001b[0m\u001b[0m\n\u001b[0m\u001b[0;32m    175\u001b[0m         \u001b[0mself\u001b[0m\u001b[1;33m.\u001b[0m\u001b[0m_executed\u001b[0m \u001b[1;33m=\u001b[0m \u001b[0mquery\u001b[0m\u001b[1;33m\u001b[0m\u001b[0m\n\u001b[0;32m    176\u001b[0m         \u001b[1;32mif\u001b[0m \u001b[1;32mnot\u001b[0m \u001b[0mself\u001b[0m\u001b[1;33m.\u001b[0m\u001b[0m_defer_warnings\u001b[0m\u001b[1;33m:\u001b[0m \u001b[0mself\u001b[0m\u001b[1;33m.\u001b[0m\u001b[0m_warning_check\u001b[0m\u001b[1;33m(\u001b[0m\u001b[1;33m)\u001b[0m\u001b[1;33m\u001b[0m\u001b[0m\n",
      "\u001b[1;32mC:\\Python27\\lib\\site-packages\\MySQLdb\\connections.pyc\u001b[0m in \u001b[0;36mdefaulterrorhandler\u001b[1;34m(***failed resolving arguments***)\u001b[0m\n\u001b[0;32m     34\u001b[0m     \u001b[1;32mdel\u001b[0m \u001b[0mcursor\u001b[0m\u001b[1;33m\u001b[0m\u001b[0m\n\u001b[0;32m     35\u001b[0m     \u001b[1;32mdel\u001b[0m \u001b[0mconnection\u001b[0m\u001b[1;33m\u001b[0m\u001b[0m\n\u001b[1;32m---> 36\u001b[1;33m     \u001b[1;32mraise\u001b[0m \u001b[0merrorclass\u001b[0m\u001b[1;33m,\u001b[0m \u001b[0merrorvalue\u001b[0m\u001b[1;33m\u001b[0m\u001b[0m\n\u001b[0m\u001b[0;32m     37\u001b[0m \u001b[1;33m\u001b[0m\u001b[0m\n\u001b[0;32m     38\u001b[0m \u001b[0mre_numeric_part\u001b[0m \u001b[1;33m=\u001b[0m \u001b[0mre\u001b[0m\u001b[1;33m.\u001b[0m\u001b[0mcompile\u001b[0m\u001b[1;33m(\u001b[0m\u001b[1;34mr\"^(\\d+)\"\u001b[0m\u001b[1;33m)\u001b[0m\u001b[1;33m\u001b[0m\u001b[0m\n",
      "\u001b[1;31mKeyboardInterrupt\u001b[0m: "
     ]
    }
   ],
   "source": [
    "import MySQLdb,io\n",
    "\n",
    "cnx = MySQLdb.connect(\"localhost\",\"root\",\"123456\",\"prepare_db\",charset=\"utf8\")\n",
    "cursor = cnx.cursor()\n",
    "\n",
    "\n",
    "fin=open('E:\\\\mysql\\\\money20142.txt')\n",
    "lines=fin.readlines()\n",
    "\n",
    "for i in range(0,len(lines)-1):#len(lines)\n",
    "    datain = lines[i].split('\\t')\n",
    "    #print type(datain[0])\n",
    "    add_record=\"UPDATE moneydj_2014 SET ID = (%s) \"\n",
    "    cursor.execute(add_record,(datain[0]))\n",
    "    #print datain[6]\n",
    "\n",
    "#\n",
    "cnx.commit()\n",
    "cursor.close()\n",
    "cnx.close()"
   ]
  },
  {
   "cell_type": "code",
   "execution_count": 8,
   "metadata": {
    "collapsed": true
   },
   "outputs": [],
   "source": [
    "import requests"
   ]
  },
  {
   "cell_type": "code",
   "execution_count": null,
   "metadata": {
    "collapsed": true
   },
   "outputs": [],
   "source": []
  },
  {
   "cell_type": "markdown",
   "metadata": {
    "collapsed": true
   },
   "source": [
    "# Other"
   ]
  },
  {
   "cell_type": "code",
   "execution_count": 69,
   "metadata": {
    "collapsed": false
   },
   "outputs": [],
   "source": [
    "import MySQLdb,io\n",
    "\n",
    "#資料庫IP,ID,pass,schema名稱,預設編碼\n",
    "cnx = MySQLdb.connect(\"localhost\",\"root\",\"123456\",\"news.db\",charset=\"utf8\")\n",
    "cursor = cnx.cursor()\n",
    "\n",
    "\n",
    "fin=open('E:/mysql/news/newNews/OtherNews_20152.txt')\n",
    "lines=fin.readlines()\n",
    "\n",
    "for i in range(0,len(lines)-1):#len(lines)\n",
    "                    #分隔符號\n",
    "    datain = lines[i].split(',')\n",
    "    #print type(datain[0])\n",
    "                            #資料表名稱\n",
    "    add_record=\"INSERT INTO othernews_2015 \\\n",
    "                (ID,Date,Time,Title,Source,Web,Content) \\\n",
    "                VALUES (%s, %s, %s, %s, %s, %s, %s)\"\n",
    "    if len(datain) < 7:\n",
    "        cursor.execute(add_record,(datain[0],datain[1],datain[2],datain[3],datain[4],datain[5],\"Null\"))  \n",
    "    else:\n",
    "        cursor.execute(add_record,(datain[0],datain[1],datain[2],datain[3],datain[4],datain[5],datain[6]))\n",
    "    #print datain[0]\n",
    "\n",
    "#\n",
    "cnx.commit()\n",
    "cursor.close()\n",
    "cnx.close()\n"
   ]
  },
  {
   "cell_type": "code",
   "execution_count": 20,
   "metadata": {
    "collapsed": false
   },
   "outputs": [
    {
     "ename": "ProgrammingError",
     "evalue": "closing a closed connection",
     "output_type": "error",
     "traceback": [
      "\u001b[1;31m---------------------------------------------------------------------------\u001b[0m",
      "\u001b[1;31mProgrammingError\u001b[0m                          Traceback (most recent call last)",
      "\u001b[1;32m<ipython-input-20-3d3f309e254a>\u001b[0m in \u001b[0;36m<module>\u001b[1;34m()\u001b[0m\n\u001b[0;32m      1\u001b[0m \u001b[0mcursor\u001b[0m\u001b[1;33m.\u001b[0m\u001b[0mclose\u001b[0m\u001b[1;33m(\u001b[0m\u001b[1;33m)\u001b[0m\u001b[1;33m\u001b[0m\u001b[0m\n\u001b[1;32m----> 2\u001b[1;33m \u001b[0mcnx\u001b[0m\u001b[1;33m.\u001b[0m\u001b[0mclose\u001b[0m\u001b[1;33m(\u001b[0m\u001b[1;33m)\u001b[0m\u001b[1;33m\u001b[0m\u001b[0m\n\u001b[0m",
      "\u001b[1;31mProgrammingError\u001b[0m: closing a closed connection"
     ]
    }
   ],
   "source": [
    "cursor.close()\n",
    "cnx.close()"
   ]
  },
  {
   "cell_type": "markdown",
   "metadata": {
    "collapsed": true
   },
   "source": [
    "# C聚亨"
   ]
  },
  {
   "cell_type": "code",
   "execution_count": 55,
   "metadata": {
    "collapsed": false
   },
   "outputs": [],
   "source": [
    "import MySQLdb,io,sys,codecs\n",
    "\n",
    "#資料庫IP,ID,pass,schema名稱,預設編碼\n",
    "cnx = MySQLdb.connect(\"localhost\",\"root\",\"123456\",\"news.db\",charset=\"utf8\")\n",
    "cursor = cnx.cursor()\n",
    "BOM = codecs.BOM_UTF8.decode('utf8')\n",
    "\n",
    "with io.open(\"E:/mysql/news/newNews/cnYES_20153.txt\", 'r', encoding='utf-8') as f: #做字典的檔案\n",
    "    for lines in f: #一行為單位\n",
    "        lines = lines.lstrip(BOM)\n",
    "                    #分隔符號\n",
    "        datain = lines.split('\\t')\n",
    "        #print type(datain[0])\n",
    "                                #資料表名稱\n",
    "        add_record=\"INSERT INTO cnyes_2015 \\\n",
    "                    (ID,Classifer,Tag,Title,Date,Web,Source,Content) \\\n",
    "                    VALUES (%s, %s, %s, %s, %s, %s,%s,%s)\"\n",
    "        try:\n",
    "            if len(datain) < 8:\n",
    "                cursor.execute(add_record,(datain[0],datain[1],datain[2],datain[3],datain[4],datain[5],datain[6],\"Null\"))\n",
    "            else:\n",
    "                cursor.execute(add_record,(datain[0],datain[1],datain[2],datain[3],datain[4],datain[5],datain[6],datain[7]))\n",
    "        except:\n",
    "            a,b,c = sys.exc_info()\n",
    "            print a,b,c\n",
    "            print datain[0]\n",
    "            cursor.close()\n",
    "            cnx.close()\n",
    "\n",
    "\n",
    "#\n",
    "cnx.commit()\n",
    "cursor.close()\n",
    "cnx.close()"
   ]
  },
  {
   "cell_type": "code",
   "execution_count": 41,
   "metadata": {
    "collapsed": false
   },
   "outputs": [
    {
     "name": "stdout",
     "output_type": "stream",
     "text": [
      "𥚃�\n"
     ]
    }
   ],
   "source": [
    "print '\\xF0\\xA5\\x9A\\x83\\xE9\\xAC'"
   ]
  },
  {
   "cell_type": "code",
   "execution_count": null,
   "metadata": {
    "collapsed": true
   },
   "outputs": [],
   "source": []
  },
  {
   "cell_type": "markdown",
   "metadata": {
    "collapsed": true
   },
   "source": [
    "# II 證卷代號表"
   ]
  },
  {
   "cell_type": "code",
   "execution_count": 6,
   "metadata": {
    "collapsed": false
   },
   "outputs": [],
   "source": [
    "import MySQLdb,io,sys,codecs\n",
    "\n",
    "\n",
    "#資料庫IP,ID,pass,schema名稱,預設編碼\n",
    "cnx = MySQLdb.connect(\"localhost\",\"root\",\"123456\",\"industry_db\",charset=\"utf8\")\n",
    "cursor = cnx.cursor()\n",
    "BOM = codecs.BOM_UTF8.decode('utf8')\n",
    "\n",
    "with io.open('E:\\\\mysql\\\\Industry\\\\stock_id.txt', 'r', encoding='utf-8') as f: #做字典的檔案\n",
    "    for lines in f: #一行為單位\n",
    "        lines = lines.lstrip(BOM) #處理編碼問題\n",
    "\n",
    "        datain = lines.split('\\t')\n",
    "        #print type(datain[0])\n",
    "                                #資料表名稱\n",
    "        add_record=\"INSERT INTO 證卷代號表 \\\n",
    "                    (代號,簡稱,公司全名) \\\n",
    "                    VALUES (%s, %s, %s)\"\n",
    "\n",
    "        #print datain[0].split()\n",
    "        try:\n",
    "            cursor.execute(add_record,(datain[0],datain[1],datain[2]))\n",
    "        except:\n",
    "            a,b,c = sys.exc_info()\n",
    "            print a,b,c\n",
    "            print datain[0]\n",
    "            cursor.close()\n",
    "            cnx.close()\n",
    "\n",
    "\n",
    "#\n",
    "cnx.commit()\n",
    "cursor.close()\n",
    "cnx.close()"
   ]
  },
  {
   "cell_type": "markdown",
   "metadata": {},
   "source": [
    "# 上市公司聯絡表"
   ]
  },
  {
   "cell_type": "code",
   "execution_count": 102,
   "metadata": {
    "collapsed": false
   },
   "outputs": [],
   "source": [
    "import MySQLdb,io,sys\n",
    "\n",
    "#資料庫IP,ID,pass,schema名稱,預設編碼\n",
    "cnx = MySQLdb.connect(\"localhost\",\"root\",\"123456\",\"industry.db\",charset=\"utf8\")\n",
    "cursor = cnx.cursor()\n",
    "\n",
    "\n",
    "with io.open('E:\\\\mysql\\\\Industry\\\\listed_company_contant_chart.txt', 'r', encoding='utf-8') as f: #做字典的檔案\n",
    "    for lines in f: #一行為單位\n",
    "        lines = lines.lstrip(BOM) #處理編碼問題\n",
    "\n",
    "        datain = lines.split('\\t')\n",
    "        #print type(datain[0])\n",
    "                                #資料表名稱\n",
    "        add_record=\"INSERT INTO listed_company_contant_chart \\\n",
    "                    (code,company,industry,ceo,coo,talkman,phone,address,Main_product,web) \\\n",
    "                    VALUES (%s, %s, %s, %s,%s, %s, %s, %s,%s,%s)\"\n",
    "\n",
    "        #print datain[0].split()\n",
    "        try:\n",
    "            cursor.execute(add_record,(datain[0],datain[1],datain[2],datain[3],datain[4],datain[5],datain[6],datain[7]\n",
    "                                      ,datain[8],datain[9]))\n",
    "        except:\n",
    "            a,b,c = sys.exc_info()\n",
    "            print a,b,c\n",
    "            print datain[0]\n",
    "            cursor.close()\n",
    "            cnx.close()\n",
    "\n",
    "\n",
    "#\n",
    "cnx.commit()\n",
    "cursor.close()\n",
    "cnx.close()"
   ]
  },
  {
   "cell_type": "markdown",
   "metadata": {},
   "source": [
    "# 上市公司基本資訊"
   ]
  },
  {
   "cell_type": "code",
   "execution_count": 104,
   "metadata": {
    "collapsed": false
   },
   "outputs": [],
   "source": [
    "import MySQLdb,io,sys\n",
    "\n",
    "#資料庫IP,ID,pass,schema名稱,預設編碼\n",
    "cnx = MySQLdb.connect(\"localhost\",\"root\",\"123456\",\"industry.db\",charset=\"utf8\")\n",
    "cursor = cnx.cursor()\n",
    "\n",
    "\n",
    "with io.open('E:\\\\mysql\\\\Industry\\\\company_information.txt', 'r', encoding='utf-8') as f: #做字典的檔案\n",
    "    for lines in f: #一行為單位\n",
    "        lines = lines.lstrip(BOM) #處理編碼問題\n",
    "\n",
    "        datain = lines.split('\\t')\n",
    "        #print type(datain[0])\n",
    "                                #資料表名稱\n",
    "        add_record=\"INSERT INTO company_information \\\n",
    "                    (Stock_code,stock,industry,capatial,date,count) \\\n",
    "                    VALUES (%s, %s, %s, %s, %s, %s)\"\n",
    "\n",
    "        #print datain[0].split()\n",
    "        try:\n",
    "            cursor.execute(add_record,(datain[0],datain[1],datain[2],datain[3],datain[4],datain[5]))\n",
    "        except:\n",
    "            a,b,c = sys.exc_info()\n",
    "            print a,b,c\n",
    "            print datain[0]\n",
    "            cursor.close()\n",
    "            cnx.close()\n",
    "\n",
    "\n",
    "#\n",
    "cnx.commit()\n",
    "cursor.close()\n",
    "cnx.close()"
   ]
  },
  {
   "cell_type": "markdown",
   "metadata": {},
   "source": [
    "# 產業供應鏈分析表"
   ]
  },
  {
   "cell_type": "code",
   "execution_count": 17,
   "metadata": {
    "collapsed": false
   },
   "outputs": [],
   "source": [
    "import MySQLdb,io,sys\n",
    "\n",
    "#資料庫IP,ID,pass,schema名稱,預設編碼\n",
    "cnx = MySQLdb.connect(\"localhost\",\"root\",\"123456\",\"industry_db\",charset=\"utf8\")\n",
    "cursor = cnx.cursor()\n",
    "\n",
    "\n",
    "with io.open('E:\\\\mysql\\\\Industry\\\\chain_id.txt', 'r', encoding='utf-8') as f: #做字典的檔案\n",
    "    for lines in f: #一行為單位\n",
    "        lines = lines.lstrip(BOM) #處理編碼問題\n",
    "\n",
    "        datain = lines.split('\\t')\n",
    "        #print type(datain[0])\n",
    "                                #資料表名稱\n",
    "        add_record=\"INSERT INTO 產業供應鏈分析表 \\\n",
    "                    (證卷代號,產業類別,主要產品,位置) \\\n",
    "                    VALUES (%s, %s, %s, %s)\"\n",
    "\n",
    "        #print datain[0].split()\n",
    "        try:\n",
    "            cursor.execute(add_record,(datain[0],datain[1],datain[2],datain[3]))\n",
    "        except:\n",
    "            a,b,c = sys.exc_info()\n",
    "            print a,b,c\n",
    "            print datain[0]\n",
    "            cursor.close()\n",
    "            cnx.close()\n",
    "\n",
    "\n",
    "#\n",
    "cnx.commit()\n",
    "cursor.close()\n",
    "cnx.close()"
   ]
  },
  {
   "cell_type": "markdown",
   "metadata": {},
   "source": [
    "# 供應鏈產業別"
   ]
  },
  {
   "cell_type": "code",
   "execution_count": 105,
   "metadata": {
    "collapsed": false
   },
   "outputs": [],
   "source": [
    "import MySQLdb,io,sys\n",
    "\n",
    "#資料庫IP,ID,pass,schema名稱,預設編碼\n",
    "cnx = MySQLdb.connect(\"localhost\",\"root\",\"123456\",\"industry.db\",charset=\"utf8\")\n",
    "cursor = cnx.cursor()\n",
    "\n",
    "\n",
    "with io.open('E:\\\\mysql\\\\Industry\\\\supply_chain.txt', 'r', encoding='utf-8') as f: #做字典的檔案\n",
    "    for lines in f: #一行為單位\n",
    "        lines = lines.lstrip(BOM) #處理編碼問題\n",
    "\n",
    "        datain = lines.split('\\t')\n",
    "        #print type(datain[0])\n",
    "                                #資料表名稱\n",
    "        add_record=\"INSERT INTO supply_chain \\\n",
    "                    (Supply_Chain,SC_ID) \\\n",
    "                    VALUES (%s, %s)\"\n",
    "\n",
    "        #print datain[0].split()\n",
    "        try:\n",
    "            cursor.execute(add_record,(datain[0],datain[1]))\n",
    "        except:\n",
    "            a,b,c = sys.exc_info()\n",
    "            print a,b,c\n",
    "            print datain[0]\n",
    "            cursor.close()\n",
    "            cnx.close()\n",
    "\n",
    "\n",
    "#\n",
    "cnx.commit()\n",
    "cursor.close()\n",
    "cnx.close()"
   ]
  },
  {
   "cell_type": "code",
   "execution_count": null,
   "metadata": {
    "collapsed": true
   },
   "outputs": [],
   "source": [
    "import MySQLdb,io,sys\n",
    "\n",
    "#資料庫IP,ID,pass,schema名稱,預設編碼\n",
    "cnx = MySQLdb.connect(\"localhost\",\"root\",\"123456\",\"industry_db\",charset=\"utf8\")\n",
    "cursor = cnx.cursor()\n",
    "\n",
    "\n",
    "with io.open('E:\\\\mysql\\\\Industry\\\\chain.txt', 'r', encoding='utf-8') as f: #做字典的檔案\n",
    "    for lines in f: #一行為單位\n",
    "        lines = lines.lstrip(BOM) #處理編碼問題\n",
    "\n",
    "        datain = lines.split('\\t')\n",
    "        #print type(datain[0])\n",
    "                                #資料表名稱\n",
    "        add_record=\"INSERT INTO 供應鏈產業別 \\\n",
    "                    (SC_ID,產業鏈別) \\\n",
    "                    VALUES (%s, %s)\"\n",
    "\n",
    "        #print datain[0].split()\n",
    "        try:\n",
    "            cursor.execute(add_record,(datain[0],datain[1]))\n",
    "        except:\n",
    "            a,b,c = sys.exc_info()\n",
    "            print a,b,c\n",
    "            print datain[0]\n",
    "            cursor.close()\n",
    "            cnx.close()\n",
    "\n",
    "\n",
    "#\n",
    "cnx.commit()\n",
    "cursor.close()\n",
    "cnx.close()"
   ]
  },
  {
   "cell_type": "markdown",
   "metadata": {},
   "source": [
    "# 產品編碼對照表"
   ]
  },
  {
   "cell_type": "code",
   "execution_count": 106,
   "metadata": {
    "collapsed": false
   },
   "outputs": [],
   "source": [
    "import MySQLdb,io,sys,codecs\n",
    "\n",
    "\n",
    "#資料庫IP,ID,pass,schema名稱,預設編碼\n",
    "cnx = MySQLdb.connect(\"localhost\",\"root\",\"123456\",\"industry.db\",charset=\"utf8\")\n",
    "cursor = cnx.cursor()\n",
    "BOM = codecs.BOM_UTF8.decode('utf8')\n",
    "\n",
    "with io.open('E:\\\\mysql\\\\Industry\\\\product_code.txt', 'r', encoding='utf-8') as f: #做字典的檔案\n",
    "    for lines in f: #一行為單位\n",
    "        lines = lines.lstrip(BOM) #處理編碼問題\n",
    "\n",
    "        datain = lines.split('\\t')\n",
    "        #print type(datain[0])\n",
    "                                #資料表名稱\n",
    "        add_record=\"INSERT INTO product_code \\\n",
    "                    (product,SCD) \\\n",
    "                    VALUES (%s, %s)\"\n",
    "\n",
    "        #print datain[0].split()\n",
    "        try:\n",
    "            cursor.execute(add_record,(datain[0],datain[1]))\n",
    "        except:\n",
    "            a,b,c = sys.exc_info()\n",
    "            print a,b,c\n",
    "            print datain[0]\n",
    "            cursor.close()\n",
    "            cnx.close()\n",
    "\n",
    "\n",
    "#\n",
    "cnx.commit()\n",
    "cursor.close()\n",
    "cnx.close()"
   ]
  },
  {
   "cell_type": "markdown",
   "metadata": {},
   "source": [
    "# 產業鏈位置對照表"
   ]
  },
  {
   "cell_type": "code",
   "execution_count": 27,
   "metadata": {
    "collapsed": true
   },
   "outputs": [],
   "source": [
    "import MySQLdb,io,sys,codecs\n",
    "\n",
    "\n",
    "#資料庫IP,ID,pass,schema名稱,預設編碼\n",
    "cnx = MySQLdb.connect(\"localhost\",\"root\",\"123456\",\"industry_db\",charset=\"utf8\")\n",
    "cursor = cnx.cursor()\n",
    "BOM = codecs.BOM_UTF8.decode('utf8')\n",
    "\n",
    "with io.open('E:\\\\mysql\\\\Industry\\\\p_code.txt', 'r', encoding='utf-8') as f: #做字典的檔案\n",
    "    for lines in f: #一行為單位\n",
    "        lines = lines.lstrip(BOM) #處理編碼問題\n",
    "\n",
    "        datain = lines.split('\\t')\n",
    "        #print type(datain[0])\n",
    "                                #資料表名稱\n",
    "        add_record=\"INSERT INTO 產業鏈位置對照表 \\\n",
    "                    (ID,位置) \\\n",
    "                    VALUES (%s, %s)\"\n",
    "\n",
    "        #print datain[0].split()\n",
    "        try:\n",
    "            cursor.execute(add_record,(datain[0],datain[1]))\n",
    "        except:\n",
    "            a,b,c = sys.exc_info()\n",
    "            print a,b,c\n",
    "            print datain[0]\n",
    "            cursor.close()\n",
    "            cnx.close()\n",
    "\n",
    "\n",
    "#\n",
    "cnx.commit()\n",
    "cursor.close()\n",
    "cnx.close()"
   ]
  },
  {
   "cell_type": "markdown",
   "metadata": {},
   "source": [
    "# 產業別"
   ]
  },
  {
   "cell_type": "code",
   "execution_count": 98,
   "metadata": {
    "collapsed": true
   },
   "outputs": [],
   "source": [
    "import MySQLdb,io,sys,codecs\n",
    "\n",
    "\n",
    "#資料庫IP,ID,pass,schema名稱,預設編碼\n",
    "cnx = MySQLdb.connect(\"localhost\",\"root\",\"123456\",\"industry.db\",charset=\"utf8\")\n",
    "cursor = cnx.cursor()\n",
    "BOM = codecs.BOM_UTF8.decode('utf8')\n",
    "\n",
    "with io.open('E:\\\\mysql\\\\Industry\\\\industry.txt', 'r', encoding='utf-8') as f: #做字典的檔案\n",
    "    for lines in f: #一行為單位\n",
    "        lines = lines.lstrip(BOM) #處理編碼問題\n",
    "\n",
    "        datain = lines.split('\\t')\n",
    "        #print type(datain[0])\n",
    "                                #資料表名稱\n",
    "        add_record=\"INSERT INTO industry \\\n",
    "                    (Industry_id,Industry) \\\n",
    "                    VALUES (%s, %s)\"\n",
    "\n",
    "        #print datain[0].split()\n",
    "        try:\n",
    "            cursor.execute(add_record,(datain[0],datain[1]))\n",
    "        except:\n",
    "            a,b,c = sys.exc_info()\n",
    "            print a,b,c\n",
    "            print datain[0]\n",
    "            cursor.close()\n",
    "            cnx.close()\n",
    "\n",
    "\n",
    "#\n",
    "cnx.commit()\n",
    "cursor.close()\n",
    "cnx.close()"
   ]
  },
  {
   "cell_type": "markdown",
   "metadata": {},
   "source": [
    "# 類股指數列表"
   ]
  },
  {
   "cell_type": "code",
   "execution_count": 31,
   "metadata": {
    "collapsed": false
   },
   "outputs": [],
   "source": [
    "import MySQLdb,io,sys,codecs\n",
    "\n",
    "\n",
    "#資料庫IP,ID,pass,schema名稱,預設編碼\n",
    "cnx = MySQLdb.connect(\"localhost\",\"root\",\"123456\",\"industry_db\",charset=\"utf8\")\n",
    "cursor = cnx.cursor()\n",
    "BOM = codecs.BOM_UTF8.decode('utf8')\n",
    "\n",
    "with io.open('E:\\\\mysql\\\\Industry\\\\class_list.txt', 'r', encoding='utf-8') as f: #做字典的檔案\n",
    "    for lines in f: #一行為單位\n",
    "        lines = lines.lstrip(BOM) #處理編碼問題\n",
    "\n",
    "        datain = lines.split('\\t')\n",
    "        #print type(datain[0])\n",
    "                                #資料表名稱\n",
    "        add_record=\"INSERT INTO 類股指數列表 \\\n",
    "                    (Industry_id,IndustryIndex,Count) \\\n",
    "                    VALUES (%s, %s, %s)\"\n",
    "\n",
    "        #print datain[0].split()\n",
    "        try:\n",
    "            cursor.execute(add_record,(datain[0],datain[1],datain[2]))\n",
    "        except:\n",
    "            a,b,c = sys.exc_info()\n",
    "            print a,b,c\n",
    "            print datain[0]\n",
    "            cursor.close()\n",
    "            cnx.close()\n",
    "\n",
    "\n",
    "#\n",
    "cnx.commit()\n",
    "cursor.close()\n",
    "cnx.close()"
   ]
  },
  {
   "cell_type": "markdown",
   "metadata": {},
   "source": [
    "# STOCK CODE"
   ]
  },
  {
   "cell_type": "code",
   "execution_count": 97,
   "metadata": {
    "collapsed": false
   },
   "outputs": [],
   "source": [
    "import MySQLdb,io,sys,codecs\n",
    "\n",
    "\n",
    "#資料庫IP,ID,pass,schema名稱,預設編碼\n",
    "cnx = MySQLdb.connect(\"localhost\",\"root\",\"123456\",\"industry.db\",charset=\"utf8\")\n",
    "cursor = cnx.cursor()\n",
    "BOM = codecs.BOM_UTF8.decode('utf8')\n",
    "\n",
    "with io.open('E:\\\\mysql\\\\Industry\\\\stock_code.txt', 'r', encoding='utf-8') as f: #做字典的檔案\n",
    "    for lines in f: #一行為單位\n",
    "        lines = lines.lstrip(BOM) #處理編碼問題\n",
    "\n",
    "        datain = lines.split('\\t')\n",
    "        #print type(datain[0])\n",
    "                                #資料表名稱\n",
    "        add_record=\"INSERT INTO stock_code \\\n",
    "                    (Stock_code,Stock,Company) \\\n",
    "                    VALUES (%s, %s, %s)\"\n",
    "\n",
    "        #print datain[0].split()\n",
    "        try:\n",
    "            cursor.execute(add_record,(datain[0],datain[1],datain[2]))\n",
    "        except:\n",
    "            a,b,c = sys.exc_info()\n",
    "            print a,b,c\n",
    "            print datain[0]\n",
    "            cursor.close()\n",
    "            cnx.close()\n",
    "\n",
    "\n",
    "#\n",
    "cnx.commit()\n",
    "cursor.close()\n",
    "cnx.close()"
   ]
  },
  {
   "cell_type": "code",
   "execution_count": null,
   "metadata": {
    "collapsed": true
   },
   "outputs": [],
   "source": []
  },
  {
   "cell_type": "code",
   "execution_count": null,
   "metadata": {
    "collapsed": true
   },
   "outputs": [],
   "source": []
  },
  {
   "cell_type": "code",
   "execution_count": null,
   "metadata": {
    "collapsed": true
   },
   "outputs": [],
   "source": []
  },
  {
   "cell_type": "code",
   "execution_count": null,
   "metadata": {
    "collapsed": true
   },
   "outputs": [],
   "source": []
  },
  {
   "cell_type": "markdown",
   "metadata": {
    "collapsed": true
   },
   "source": [
    "# 漲幅 洪"
   ]
  },
  {
   "cell_type": "code",
   "execution_count": 93,
   "metadata": {
    "collapsed": true
   },
   "outputs": [
    {
     "name": "stdout",
     "output_type": "stream",
     "text": [
      "2014/1/15\n",
      "2014/2/7\n",
      "2014/2/12\n",
      "2014/2/21\n",
      "2014/3/5\n",
      "2014/3/6\n",
      "2014/3/13\n",
      "2014/3/25\n",
      "2014/3/31\n",
      "2014/4/15\n",
      "2014/4/29\n",
      "2014/5/2\n",
      "2014/5/14\n",
      "2014/5/28\n",
      "2014/6/10\n",
      "2014/6/26\n",
      "2014/6/30\n",
      "2014/7/10\n",
      "2014/7/22\n",
      "2014/7/30\n",
      "2014/8/4\n",
      "2014/8/11\n",
      "2014/8/13\n",
      "2014/8/27\n",
      "2014/9/1\n",
      "2014/9/3\n",
      "2014/9/17\n",
      "2014/10/14\n",
      "2014/10/22\n",
      "2014/10/31\n",
      "2014/11/13\n",
      "2014/12/18\n",
      "2014/12/22\n",
      "2014/12/24\n",
      "2014/12/26\n",
      "2014/12/29\n",
      "2015/1/13\n",
      "2015/1/20\n",
      "2015/1/21\n",
      "2015/2/3\n",
      "2015/2/4\n",
      "2015/2/11\n",
      "2015/2/24\n",
      "2015/2/25\n",
      "2015/3/6\n",
      "2015/3/12\n",
      "2015/3/19\n",
      "2015/3/31\n",
      "2015/4/2\n",
      "2015/4/22\n",
      "2015/4/27\n",
      "2015/5/22\n",
      "2014/1/2\n",
      "2014/1/7\n",
      "2014/1/8\n",
      "2014/1/10\n",
      "2014/1/13\n",
      "2014/1/16\n",
      "2014/1/20\n",
      "2014/1/22\n",
      "2014/1/24\n",
      "2014/2/6\n",
      "2014/2/10\n",
      "2014/2/11\n",
      "2014/2/14\n",
      "2014/2/17\n",
      "2014/2/18\n",
      "2014/2/19\n",
      "2014/2/25\n",
      "2014/2/26\n",
      "2014/2/27\n",
      "2014/3/7\n",
      "2014/3/11\n",
      "2014/3/17\n",
      "2014/3/18\n",
      "2014/3/24\n",
      "2014/3/26\n",
      "2014/3/27\n",
      "2014/4/1\n",
      "2014/4/2\n",
      "2014/4/8\n",
      "2014/4/9\n",
      "2014/4/10\n",
      "2014/4/16\n",
      "2014/4/17\n",
      "2014/4/18\n",
      "2014/4/22\n",
      "2014/4/28\n",
      "2014/5/5\n",
      "2014/5/6\n",
      "2014/5/8\n",
      "2014/5/13\n",
      "2014/5/15\n",
      "2014/5/16\n",
      "2014/5/19\n",
      "2014/5/23\n",
      "2014/5/26\n",
      "2014/5/27\n",
      "2014/6/3\n",
      "2014/6/5\n",
      "2014/6/9\n",
      "2014/6/11\n",
      "2014/6/16\n",
      "2014/6/17\n",
      "2014/6/18\n",
      "2014/6/19\n",
      "2014/6/24\n",
      "2014/7/1\n",
      "2014/7/2\n",
      "2014/7/3\n",
      "2014/7/7\n",
      "2014/7/8\n",
      "2014/7/14\n",
      "2014/7/15\n",
      "2014/7/21\n",
      "2014/7/24\n",
      "2014/8/6\n",
      "2014/8/20\n",
      "2014/8/25\n",
      "2014/8/26\n",
      "2014/9/9\n",
      "2014/9/18\n",
      "2014/9/19\n",
      "2014/9/24\n",
      "2014/9/30\n",
      "2014/10/1\n",
      "2014/10/9\n",
      "2014/11/3\n",
      "2014/11/7\n",
      "2014/11/14\n",
      "2014/11/21\n",
      "2014/11/24\n",
      "2014/11/26\n",
      "2014/11/27\n",
      "2014/11/28\n",
      "2014/12/4\n",
      "2014/12/12\n",
      "2014/12/23\n",
      "2014/12/27\n",
      "2014/12/31\n",
      "2015/1/7\n",
      "2015/1/19\n",
      "2015/1/22\n",
      "2015/1/26\n",
      "2015/1/27\n",
      "2015/2/2\n",
      "2015/2/12\n",
      "2015/2/13\n",
      "2015/3/3\n",
      "2015/3/4\n",
      "2015/3/17\n",
      "2015/3/20\n",
      "2015/3/23\n",
      "2015/3/30\n",
      "2015/4/7\n",
      "2015/4/10\n",
      "2015/4/13\n",
      "2015/5/4\n",
      "2015/5/12\n",
      "2015/5/13\n",
      "2015/5/18\n",
      "2014/5/22\n",
      "2014/8/19\n",
      "2014/8/22\n",
      "2014/10/3\n",
      "2014/10/20\n",
      "2014/10/28\n",
      "2014/10/29\n",
      "2014/11/10\n",
      "2014/11/19\n",
      "2014/11/20\n",
      "2014/12/3\n",
      "2014/12/19\n",
      "2015/1/8\n",
      "2015/1/23\n",
      "2015/3/18\n",
      "2015/4/16\n",
      "2015/4/23\n",
      "2015/4/24\n",
      "2015/5/19\n"
     ]
    }
   ],
   "source": [
    "import MySQLdb,io,sys,codecs\n",
    "\n",
    "\n",
    "#資料庫IP,ID,pass,schema名稱,預設編碼\n",
    "cnx = MySQLdb.connect(\"localhost\",\"root\",\"123456\",\"stock.db\",charset=\"utf8\")\n",
    "cursor = cnx.cursor()\n",
    "BOM = codecs.BOM_UTF8.decode('utf8')\n",
    "\n",
    "with io.open('E:\\\\mysql\\\\update\\\\stockRed2.txt', 'r', encoding='utf-8') as f: #做字典的檔案\n",
    "    for lines in f: #一行為單位\n",
    "        lines = lines.lstrip(BOM) #處理編碼問題\n",
    "\n",
    "        datain = lines.split('\\t')\n",
    "        #print type(datain[0])\n",
    "                                #資料表名稱\n",
    "        add_record=\"INSERT INTO market_extends_win_streak (DATE,TAIEX,Increase) VALUES (%s, %s, %s)\"\n",
    "        #print datain[0].split()\n",
    "        try:\n",
    "            #print \"\".join(datain[0].split())\n",
    "            cursor.execute(add_record,(\"\".join(datain[0].split()),datain[1],\"\".join(datain[2].split())))\n",
    "        except:\n",
    "            a,b,c = sys.exc_info()\n",
    "            print a,b,c\n",
    "            print datain[0]\n",
    "            cursor.close()\n",
    "            cnx.close()\n",
    "\n",
    "\n",
    "#\n",
    "cnx.commit()\n",
    "cursor.close()\n",
    "cnx.close()"
   ]
  },
  {
   "cell_type": "markdown",
   "metadata": {
    "collapsed": true
   },
   "source": [
    "# 漲幅 黑"
   ]
  },
  {
   "cell_type": "code",
   "execution_count": 95,
   "metadata": {
    "collapsed": false
   },
   "outputs": [],
   "source": [
    "import MySQLdb,io,sys,codecs\n",
    "\n",
    "\n",
    "#資料庫IP,ID,pass,schema名稱,預設編碼\n",
    "cnx = MySQLdb.connect(\"localhost\",\"root\",\"123456\",\"stock.db\",charset=\"utf8\")\n",
    "cursor = cnx.cursor()\n",
    "BOM = codecs.BOM_UTF8.decode('utf8')\n",
    "\n",
    "with io.open('E:\\\\mysql\\\\update\\\\stockBlack2.txt', 'r', encoding='utf-8') as f: #做字典的檔案\n",
    "    for lines in f: #一行為單位\n",
    "        lines = lines.lstrip(BOM) #處理編碼問題\n",
    "\n",
    "        datain = lines.split('\\t')\n",
    "        #print type(datain[0])\n",
    "                                #資料表名稱\n",
    "        add_record=\"INSERT INTO market_extends_loss_streak (DATE,TAIEX,Increase) VALUES (%s, %s, %s)\"\n",
    "        #print datain[0].split()\n",
    "        try:\n",
    "            #print \"\".join(datain[0].split())\n",
    "            cursor.execute(add_record,(\"\".join(datain[0].split()),datain[1],\"\".join(datain[2].split())))\n",
    "        except:\n",
    "            a,b,c = sys.exc_info()\n",
    "            print a,b,c\n",
    "            print datain[0]\n",
    "            cursor.close()\n",
    "            cnx.close()\n",
    "\n",
    "\n",
    "#\n",
    "cnx.commit()\n",
    "cursor.close()\n",
    "cnx.close()"
   ]
  },
  {
   "cell_type": "code",
   "execution_count": null,
   "metadata": {
    "collapsed": true
   },
   "outputs": [],
   "source": []
  },
  {
   "cell_type": "code",
   "execution_count": 81,
   "metadata": {
    "collapsed": false
   },
   "outputs": [
    {
     "name": "stdout",
     "output_type": "stream",
     "text": [
      "INSERT INTO market_index_industry                     (ID,年度,日期,指數名稱,收盤指數,漲跌,漲跌點數,漲跌百分比)                     VALUES (%s, %s, %s, %s, %s, %s, %s, %s)\n"
     ]
    }
   ],
   "source": [
    "add_record=\"INSERT INTO market_index_industry \\\n",
    "                    (ID,年度,日期,指數名稱,收盤指數,漲跌,漲跌點數,漲跌百分比) \\\n",
    "                    VALUES (%s, %s, %s, %s, %s, %s, %s, %s)\"\n",
    "print add_record"
   ]
  },
  {
   "cell_type": "markdown",
   "metadata": {
    "collapsed": true
   },
   "source": [
    "# 大盤資訊\n"
   ]
  },
  {
   "cell_type": "code",
   "execution_count": 1,
   "metadata": {
    "collapsed": false
   },
   "outputs": [],
   "source": [
    "import MySQLdb,io,sys,codecs\n",
    "\n",
    "#資料庫IP,ID,pass,schema名稱,預設編碼\n",
    "cnx = MySQLdb.connect(\"localhost\",\"root\",\"123456\",\"stock.db\",charset=\"utf8\")\n",
    "cursor = cnx.cursor()\n",
    "\n",
    "i = 1\n",
    "BOM = codecs.BOM_UTF8.decode('utf8')\n",
    "\n",
    "with io.open(\"E:\\\\mysql\\\\Market_index.txt\", 'r', encoding='utf-8') as f: #做字典的檔案\n",
    "    for lines in f: #一行為單位\n",
    "        lines = lines.lstrip(BOM) #處理編碼問題\n",
    "        \n",
    "        datain = lines.split('\\t')\n",
    "        #print type(datain[0])\n",
    "                                #資料表名稱\n",
    "        add_record=\"INSERT INTO market_index_industry \\\n",
    "                    (ID,年度,日期,指數名稱,收盤指數,漲跌,漲跌點數,漲跌百分比) \\\n",
    "                    VALUES (%s, %s, %s, %s, %s, %s, %s, %s)\"\n",
    "        try:\n",
    "            cursor.execute(add_record,(i,datain[0],datain[1],datain[2],datain[3],datain[4],datain[5],datain[6]))\n",
    "        except:\n",
    "            a,b,c = sys.exc_info()\n",
    "            print a,b,c\n",
    "            print lines.split()[0]\n",
    "            cursor.close()\n",
    "            cnx.close()\n",
    "        i +=1\n",
    "#\n",
    "cnx.commit()\n",
    "cursor.close()\n",
    "cnx.close()"
   ]
  },
  {
   "cell_type": "markdown",
   "metadata": {
    "collapsed": true
   },
   "source": [
    "# 個股歷史成交資訊"
   ]
  },
  {
   "cell_type": "code",
   "execution_count": 3,
   "metadata": {
    "collapsed": false
   },
   "outputs": [],
   "source": [
    "import MySQLdb,io,sys,codecs\n",
    "\n",
    "#資料庫IP,ID,pass,schema名稱,預設編碼\n",
    "cnx = MySQLdb.connect(\"localhost\",\"root\",\"123456\",\"stock.db\",charset=\"utf8\")\n",
    "cursor = cnx.cursor()\n",
    "\n",
    "i = 1\n",
    "BOM = codecs.BOM_UTF8.decode('utf8')\n",
    "\n",
    "with io.open(\"E:\\\\mysql\\\\stock_history.txt\", 'r', encoding='utf-8') as f: #做字典的檔案\n",
    "    for lines in f: #一行為單位\n",
    "        lines = lines.lstrip(BOM) #處理編碼問題\n",
    "        \n",
    "        datain = lines.split('\\t')\n",
    "        #print datain[0],datain[1],datain[2],datain[3],datain[4],datain[5],datain[6],datain[7],datain[8],datain[9],datain[10]\n",
    "        #交易日期、成交股數、成交金額、開盤價、最高價、最低價、收盤價、漲跌價差、成交筆數\n",
    "                                #資料表名稱\n",
    "        add_record=\"INSERT INTO stock_history \\\n",
    "                    (證券代號,證券名稱,日期,成交股數,成交金額,開盤價,最高價,最低價,收盤價,\\\n",
    "                    漲跌價差,成交筆數) \\\n",
    "                    VALUES (%s, %s, %s, %s, %s, %s, %s, %s, %s, %s, %s)\"\n",
    "        try:\n",
    "            cursor.execute(add_record,(datain[0],datain[1],datain[2],datain[3],datain[4],datain[5],\\\n",
    "                                       datain[6],datain[7],datain[8],datain[9],datain[10]))\n",
    "        except:\n",
    "            a,b,c = sys.exc_info()\n",
    "            print a,b,c\n",
    "            print lines.split()[0]\n",
    "            cursor.close()\n",
    "            cnx.close()\n",
    "        i +=1\n",
    "#\n",
    "cnx.commit()\n",
    "cursor.close()\n",
    "cnx.close()"
   ]
  },
  {
   "cell_type": "markdown",
   "metadata": {},
   "source": [
    "# 類股資訊"
   ]
  },
  {
   "cell_type": "code",
   "execution_count": 3,
   "metadata": {
    "collapsed": false
   },
   "outputs": [],
   "source": [
    "import MySQLdb,io,sys,codecs\n",
    "\n",
    "#資料庫IP,ID,pass,schema名稱,預設編碼\n",
    "cnx = MySQLdb.connect(\"localhost\",\"root\",\"123456\",\"stock.db\",charset=\"utf8\")\n",
    "cursor = cnx.cursor()\n",
    "\n",
    "i = 1\n",
    "BOM = codecs.BOM_UTF8.decode('utf8')\n",
    "\n",
    "with io.open(\"E:\\\\mysql\\\\loveStock.txt\", 'r', encoding='utf-8') as f: #做字典的檔案\n",
    "    for lines in f: #一行為單位\n",
    "        lines = lines.lstrip(BOM) #處理編碼問題\n",
    "        \n",
    "        datain = lines.split('\\t')\n",
    "        #print type(datain[0])\n",
    "                                #資料表名稱\n",
    "        add_record=\"INSERT INTO stocks_index_industry \\\n",
    "                    (ID,年度,日期,指數名稱,成交股數,成交金額,成交筆數,漲跌指數) \\\n",
    "                    VALUES (%s, %s, %s, %s, %s, %s, %s, %s)\"\n",
    "        try:\n",
    "            cursor.execute(add_record,(datain[0],datain[1],datain[2],datain[3],datain[4],datain[5],datain[6],datain[7]))\n",
    "        except:\n",
    "            a,b,c = sys.exc_info()\n",
    "            print a,b,c\n",
    "            print lines.split()[0]\n",
    "            cursor.close()\n",
    "            cnx.close()\n",
    "        i +=1\n",
    "#\n",
    "cnx.commit()\n",
    "cursor.close()\n",
    "cnx.close()"
   ]
  },
  {
   "cell_type": "markdown",
   "metadata": {},
   "source": [
    "# 每日成交資訊"
   ]
  },
  {
   "cell_type": "code",
   "execution_count": 4,
   "metadata": {
    "collapsed": false
   },
   "outputs": [],
   "source": [
    "import MySQLdb,io,sys,codecs\n",
    "\n",
    "#資料庫IP,ID,pass,schema名稱,預設編碼\n",
    "cnx = MySQLdb.connect(\"localhost\",\"root\",\"123456\",\"stock.db\",charset=\"utf8\")\n",
    "cursor = cnx.cursor()\n",
    "\n",
    "i = 1\n",
    "BOM = codecs.BOM_UTF8.decode('utf8')\n",
    "\n",
    "with io.open(\"E:\\\\mysql\\\\day_stock.txt\", 'r', encoding='utf-8') as f: #做字典的檔案\n",
    "    for lines in f: #一行為單位\n",
    "        lines = lines.lstrip(BOM) #處理編碼問題\n",
    "        \n",
    "        datain = lines.split('\\t')\n",
    "        #print datain[0],datain[1],datain[2],datain[3],datain[4],datain[5],datain[6],datain[7],datain[8],datain[9],datain[10]\n",
    "                                #資料表名稱\n",
    "        add_record=\"INSERT INTO day_stock \\\n",
    "                    (ID,日期,成交股數,成交金額,成交筆數,發行量加權股價指數,漲跌點數) \\\n",
    "                    VALUES (%s, %s, %s, %s, %s, %s, %s)\"\n",
    "        try:\n",
    "            cursor.execute(add_record,(i,datain[0],datain[1],datain[2],datain[3],datain[4],datain[5]))\n",
    "        except:\n",
    "            a,b,c = sys.exc_info()\n",
    "            print a,b,c\n",
    "            print lines.split()[0]\n",
    "            cursor.close()\n",
    "            cnx.close()\n",
    "        i +=1\n",
    "#\n",
    "cnx.commit()\n",
    "cursor.close()\n",
    "cnx.close()"
   ]
  },
  {
   "cell_type": "code",
   "execution_count": null,
   "metadata": {
    "collapsed": true
   },
   "outputs": [],
   "source": []
  },
  {
   "cell_type": "markdown",
   "metadata": {
    "collapsed": true
   },
   "source": [
    "# 新聞總表"
   ]
  },
  {
   "cell_type": "code",
   "execution_count": 44,
   "metadata": {
    "collapsed": false
   },
   "outputs": [],
   "source": [
    "import MySQLdb,io,sys,codecs\n",
    "\n",
    "#資料庫IP,ID,pass,schema名稱,預設編碼\n",
    "cnx = MySQLdb.connect(\"localhost\",\"root\",\"123456\",\"prepare_db\",charset=\"utf8\")\n",
    "cursor = cnx.cursor()\n",
    "\n",
    "BOM = codecs.BOM_UTF8.decode('utf8')\n",
    "\n",
    "with io.open(\"E:\\\\mysql\\\\news2015.txt\", 'r', encoding='utf-8') as f: #做字典的檔案\n",
    "    for lines in f: #一行為單位\n",
    "        lines = lines.lstrip(BOM) #處理編碼問題\n",
    "        \n",
    "        datain = lines.split('\\t')\n",
    "        #print datain[0],datain[1],datain[2],datain[3],datain[4],datain[5],datain[6],datain[7],datain[8],datain[9],datain[10]\n",
    "                                #資料表名稱\n",
    "        add_record=\"INSERT INTO 新聞列表_2015 \\\n",
    "                    (ID,日期,標題,內文) \\\n",
    "                    VALUES (%s, %s, %s, %s)\"\n",
    "        try:\n",
    "            if len(datain) < 4:\n",
    "                cursor.execute(add_record,(datain[0],datain[1],datain[2],\"Null\"))\n",
    "            else:\n",
    "                cursor.execute(add_record,(datain[0],datain[1],datain[2],datain[3]))\n",
    "        except:\n",
    "            a,b,c = sys.exc_info()\n",
    "            print a,c\n",
    "            print lines.split()[0]\n",
    "            cursor.close()\n",
    "            cnx.close()\n",
    "#\n",
    "cnx.commit()\n",
    "cursor.close()\n",
    "cnx.close()"
   ]
  },
  {
   "cell_type": "markdown",
   "metadata": {
    "collapsed": true
   },
   "source": [
    "#嗯嗯嗯嗯嗯"
   ]
  },
  {
   "cell_type": "code",
   "execution_count": 6,
   "metadata": {
    "collapsed": false
   },
   "outputs": [
    {
     "ename": "IOError",
     "evalue": "[Errno 2] No such file or directory: 'E:\\\\mysql\\\\loveMarket2.txt'",
     "output_type": "error",
     "traceback": [
      "\u001b[1;31m---------------------------------------------------------------------------\u001b[0m",
      "\u001b[1;31mIOError\u001b[0m                                   Traceback (most recent call last)",
      "\u001b[1;32m<ipython-input-6-8b67efb034f8>\u001b[0m in \u001b[0;36m<module>\u001b[1;34m()\u001b[0m\n\u001b[1;32m----> 1\u001b[1;33m \u001b[1;32mwith\u001b[0m \u001b[0mio\u001b[0m\u001b[1;33m.\u001b[0m\u001b[0mopen\u001b[0m\u001b[1;33m(\u001b[0m\u001b[1;34m\"E:\\\\mysql\\\\loveMarket2.txt\"\u001b[0m\u001b[1;33m,\u001b[0m \u001b[1;34m'r'\u001b[0m\u001b[1;33m,\u001b[0m \u001b[0mencoding\u001b[0m\u001b[1;33m=\u001b[0m\u001b[1;34m'utf-8'\u001b[0m\u001b[1;33m)\u001b[0m \u001b[1;32mas\u001b[0m \u001b[0mf\u001b[0m\u001b[1;33m:\u001b[0m \u001b[1;31m#做字典的檔案\u001b[0m\u001b[1;33m\u001b[0m\u001b[0m\n\u001b[0m\u001b[0;32m      2\u001b[0m     \u001b[1;32mfor\u001b[0m \u001b[0mlines\u001b[0m \u001b[1;32min\u001b[0m \u001b[0mf\u001b[0m\u001b[1;33m:\u001b[0m \u001b[1;31m#一行為單位\u001b[0m\u001b[1;33m\u001b[0m\u001b[0m\n\u001b[0;32m      3\u001b[0m         \u001b[0mlines\u001b[0m \u001b[1;33m=\u001b[0m \u001b[0mlines\u001b[0m\u001b[1;33m.\u001b[0m\u001b[0mlstrip\u001b[0m\u001b[1;33m(\u001b[0m\u001b[0mBOM\u001b[0m\u001b[1;33m)\u001b[0m \u001b[1;31m#處理編碼問題\u001b[0m\u001b[1;33m\u001b[0m\u001b[0m\n",
      "\u001b[1;31mIOError\u001b[0m: [Errno 2] No such file or directory: 'E:\\\\mysql\\\\loveMarket2.txt'"
     ]
    }
   ],
   "source": [
    "with io.open(\"E:\\\\mysql\\\\loveMarket2.txt\", 'r', encoding='utf-8') as f: #做字典的檔案\n",
    "    for lines in f: #一行為單位\n",
    "        lines = lines.lstrip(BOM) #處理編碼問題"
   ]
  },
  {
   "cell_type": "code",
   "execution_count": 1,
   "metadata": {
    "collapsed": false
   },
   "outputs": [
    {
     "ename": "NameError",
     "evalue": "name 'cursor' is not defined",
     "output_type": "error",
     "traceback": [
      "\u001b[1;31m---------------------------------------------------------------------------\u001b[0m",
      "\u001b[1;31mNameError\u001b[0m                                 Traceback (most recent call last)",
      "\u001b[1;32m<ipython-input-1-c938a5b8fce0>\u001b[0m in \u001b[0;36m<module>\u001b[1;34m()\u001b[0m\n\u001b[0;32m      1\u001b[0m \u001b[1;32mimport\u001b[0m \u001b[0mMySQLdb\u001b[0m\u001b[1;33m,\u001b[0m\u001b[0mio\u001b[0m\u001b[1;33m\u001b[0m\u001b[0m\n\u001b[0;32m      2\u001b[0m \u001b[1;33m\u001b[0m\u001b[0m\n\u001b[1;32m----> 3\u001b[1;33m \u001b[0mcursor\u001b[0m\u001b[1;33m.\u001b[0m\u001b[0mclose\u001b[0m\u001b[1;33m(\u001b[0m\u001b[1;33m)\u001b[0m\u001b[1;33m\u001b[0m\u001b[0m\n\u001b[0m\u001b[0;32m      4\u001b[0m \u001b[0mcnx\u001b[0m\u001b[1;33m.\u001b[0m\u001b[0mclose\u001b[0m\u001b[1;33m(\u001b[0m\u001b[1;33m)\u001b[0m\u001b[1;33m\u001b[0m\u001b[0m\n",
      "\u001b[1;31mNameError\u001b[0m: name 'cursor' is not defined"
     ]
    }
   ],
   "source": [
    "import MySQLdb,io\n",
    "\n"
   ]
  },
  {
   "cell_type": "code",
   "execution_count": null,
   "metadata": {
    "collapsed": true
   },
   "outputs": [],
   "source": []
  },
  {
   "cell_type": "code",
   "execution_count": null,
   "metadata": {
    "collapsed": true
   },
   "outputs": [],
   "source": []
  },
  {
   "cell_type": "code",
   "execution_count": null,
   "metadata": {
    "collapsed": true
   },
   "outputs": [],
   "source": []
  },
  {
   "cell_type": "code",
   "execution_count": null,
   "metadata": {
    "collapsed": true
   },
   "outputs": [],
   "source": []
  },
  {
   "cell_type": "code",
   "execution_count": 89,
   "metadata": {
    "collapsed": false
   },
   "outputs": [
    {
     "name": "stdout",
     "output_type": "stream",
     "text": [
      "\u001a\n"
     ]
    }
   ],
   "source": [
    "p = '\\x1a'\n",
    "print p"
   ]
  },
  {
   "cell_type": "markdown",
   "metadata": {
    "collapsed": true
   },
   "source": [
    "# 分析表"
   ]
  },
  {
   "cell_type": "code",
   "execution_count": 108,
   "metadata": {
    "collapsed": false
   },
   "outputs": [],
   "source": [
    "import MySQLdb,io,sys,codecs\n",
    "\n",
    "#資料庫IP,ID,pass,schema名稱,預設編碼\n",
    "cnx = MySQLdb.connect(\"localhost\",\"root\",\"123456\",\"analysis.db\",charset=\"utf8\")\n",
    "cursor = cnx.cursor()\n",
    "\n",
    "i = 1\n",
    "BOM = codecs.BOM_UTF8.decode('utf8')\n",
    "\n",
    "with io.open(\"E:\\\\mysql\\\\M_SmillarNewVersion1.txt\", 'r', encoding='utf-8') as f: #做字典的檔案\n",
    "    for lines in f: #一行為單位\n",
    "        lines = lines.lstrip(BOM) #處理編碼問題\n",
    "        \n",
    "        datain = lines.split(',')\n",
    "        #print datain[0],datain[1],datain[2],datain[3],datain[4],datain[5],datain[6],datain[7],datain[8],datain[9],datain[10]\n",
    "                                #資料表名稱\n",
    "        add_record=\"INSERT INTO classifer \\\n",
    "                    (old_Artical,new_Artical,count) \\\n",
    "                    VALUES (%s, %s, %s)\"\n",
    "        try:\n",
    "            cursor.execute(add_record,(datain[0],datain[1],datain[2]))\n",
    "        except:\n",
    "            a,b,c = sys.exc_info()\n",
    "            print a,b,c\n",
    "            print lines.split()[0]\n",
    "            cursor.close()\n",
    "            cnx.close()\n",
    "        i +=1\n",
    "#\n",
    "cnx.commit()\n",
    "cursor.close()\n",
    "cnx.close()"
   ]
  },
  {
   "cell_type": "code",
   "execution_count": 110,
   "metadata": {
    "collapsed": true
   },
   "outputs": [],
   "source": [
    "import MySQLdb,io,sys,codecs\n",
    "\n",
    "#資料庫IP,ID,pass,schema名稱,預設編碼\n",
    "cnx = MySQLdb.connect(\"localhost\",\"root\",\"123456\",\"analysis.db\",charset=\"utf8\")\n",
    "cursor = cnx.cursor()\n",
    "\n",
    "i = 1\n",
    "BOM = codecs.BOM_UTF8.decode('utf8')\n",
    "\n",
    "with io.open(\"E:\\\\mysql\\\\M201505similiarArticlegradeNewVersion1.txt\", 'r', encoding='utf-8') as f: #做字典的檔案\n",
    "    for lines in f: #一行為單位\n",
    "        lines = lines.lstrip(BOM) #處理編碼問題\n",
    "        \n",
    "        datain = lines.split(',')\n",
    "        #print datain[0],datain[1],datain[2],datain[3],datain[4],datain[5],datain[6],datain[7],datain[8],datain[9],datain[10]\n",
    "                                #資料表名稱\n",
    "        add_record=\"INSERT INTO simllar \\\n",
    "                    (old_Artical,old_count,new_Artical,new_count) \\\n",
    "                    VALUES (%s, %s, %s, %s)\"\n",
    "        try:\n",
    "            cursor.execute(add_record,(datain[0],datain[1],datain[2],datain[3]))\n",
    "        except:\n",
    "            a,b,c = sys.exc_info()\n",
    "            print a,b,c\n",
    "            print lines.split()[0]\n",
    "            cursor.close()\n",
    "            cnx.close()\n",
    "        i +=1\n",
    "#\n",
    "cnx.commit()\n",
    "cursor.close()\n",
    "cnx.close()"
   ]
  },
  {
   "cell_type": "markdown",
   "metadata": {
    "collapsed": true
   },
   "source": [
    "# top_100_by_year_win"
   ]
  },
  {
   "cell_type": "code",
   "execution_count": 114,
   "metadata": {
    "collapsed": false
   },
   "outputs": [],
   "source": [
    "import MySQLdb,io,sys,codecs\n",
    "\n",
    "#資料庫IP,ID,pass,schema名稱,預設編碼\n",
    "cnx = MySQLdb.connect(\"localhost\",\"root\",\"123456\",\"analysis.db\",charset=\"utf8\")\n",
    "cursor = cnx.cursor()\n",
    "\n",
    "i = 1\n",
    "BOM = codecs.BOM_UTF8.decode('utf8')\n",
    "\n",
    "with io.open(\"E:/mysql/Top120/Year/top120Win_Year2015.txt\", 'r', encoding='utf-8') as f: #做字典的檔案\n",
    "    for lines in f: #一行為單位\n",
    "        lines = lines.lstrip(BOM) #處理編碼問題\n",
    "        \n",
    "        datain = lines.split(',')\n",
    "        #print datain[0],datain[1],datain[2],datain[3],datain[4],datain[5],datain[6],datain[7],datain[8],datain[9],datain[10]\n",
    "                                #資料表名稱\n",
    "        add_record=\"INSERT INTO top_100_by_year_win \\\n",
    "                    (keyword,count) \\\n",
    "                    VALUES (%s, %s)\"\n",
    "        try:\n",
    "            cursor.execute(add_record,(datain[0],datain[1]))\n",
    "        except:\n",
    "            a,b,c = sys.exc_info()\n",
    "            print a,b,c\n",
    "            print lines.split()[0]\n",
    "            cursor.close()\n",
    "            cnx.close()\n",
    "        i +=1\n",
    "#\n",
    "cnx.commit()\n",
    "cursor.close()\n",
    "cnx.close()"
   ]
  },
  {
   "cell_type": "markdown",
   "metadata": {},
   "source": [
    "# top_100_by_lose_win"
   ]
  },
  {
   "cell_type": "code",
   "execution_count": 116,
   "metadata": {
    "collapsed": true
   },
   "outputs": [],
   "source": [
    "import MySQLdb,io,sys,codecs\n",
    "\n",
    "#資料庫IP,ID,pass,schema名稱,預設編碼\n",
    "cnx = MySQLdb.connect(\"localhost\",\"root\",\"123456\",\"analysis.db\",charset=\"utf8\")\n",
    "cursor = cnx.cursor()\n",
    "\n",
    "i = 1\n",
    "BOM = codecs.BOM_UTF8.decode('utf8')\n",
    "\n",
    "with io.open(\"E:/mysql/Top120/Year/top120Loss_Year2015.txt\", 'r', encoding='utf-8') as f: #做字典的檔案\n",
    "    for lines in f: #一行為單位\n",
    "        lines = lines.lstrip(BOM) #處理編碼問題\n",
    "        \n",
    "        datain = lines.split(',')\n",
    "        #print datain[0],datain[1],datain[2],datain[3],datain[4],datain[5],datain[6],datain[7],datain[8],datain[9],datain[10]\n",
    "                                #資料表名稱\n",
    "        add_record=\"INSERT INTO top_100_by_year_win \\\n",
    "                    (keyword,count) \\\n",
    "                    VALUES (%s, %s)\"\n",
    "        try:\n",
    "            cursor.execute(add_record,(datain[0],datain[1]))\n",
    "        except:\n",
    "            a,b,c = sys.exc_info()\n",
    "            print a,b,c\n",
    "            print lines.split()[0]\n",
    "            cursor.close()\n",
    "            cnx.close()\n",
    "        i +=1\n",
    "#\n",
    "cnx.commit()\n",
    "cursor.close()\n",
    "cnx.close()"
   ]
  },
  {
   "cell_type": "markdown",
   "metadata": {},
   "source": [
    "# top_100_by_season_win"
   ]
  },
  {
   "cell_type": "code",
   "execution_count": 123,
   "metadata": {
    "collapsed": false
   },
   "outputs": [],
   "source": [
    "import MySQLdb,io,sys,codecs,glob\n",
    "\n",
    "#資料庫IP,ID,pass,schema名稱,預設編碼\n",
    "cnx = MySQLdb.connect(\"localhost\",\"root\",\"123456\",\"analysis.db\",charset=\"utf8\")\n",
    "cursor = cnx.cursor()\n",
    "\n",
    "i = 1\n",
    "BOM = codecs.BOM_UTF8.decode('utf8')\n",
    "\n",
    "\n",
    "for o in glob.glob(\"E:\\\\mysql\\\\Top120\\\\Season\\\\win\\\\*.txt\"):\n",
    "    with io.open(o, 'r', encoding='utf-8') as f: #做字典的檔案\n",
    "        for lines in f: #一行為單位\n",
    "            lines = lines.lstrip(BOM) #處理編碼問題\n",
    "\n",
    "            datain = lines.split(',')\n",
    "            #print datain[0],datain[1],datain[2],datain[3],datain[4],datain[5],datain[6],datain[7],datain[8],datain[9],datain[10]\n",
    "                                    #資料表名稱\n",
    "            add_record=\"INSERT INTO top_100_by_season_win \\\n",
    "                        (keyword,count) \\\n",
    "                        VALUES (%s, %s)\"\n",
    "            try:\n",
    "                cursor.execute(add_record,(datain[0],datain[1]))\n",
    "            except:\n",
    "                a,b,c = sys.exc_info()\n",
    "                print a,b,c\n",
    "                print lines.split()[0]\n",
    "                cursor.close()\n",
    "                cnx.close()\n",
    "            i +=1\n",
    "#\n",
    "cnx.commit()\n",
    "cursor.close()\n",
    "cnx.close()"
   ]
  },
  {
   "cell_type": "markdown",
   "metadata": {},
   "source": [
    "# top_100_by_season_lose\n"
   ]
  },
  {
   "cell_type": "code",
   "execution_count": 125,
   "metadata": {
    "collapsed": false
   },
   "outputs": [],
   "source": [
    "import MySQLdb,io,sys,codecs,glob\n",
    "\n",
    "#資料庫IP,ID,pass,schema名稱,預設編碼\n",
    "cnx = MySQLdb.connect(\"localhost\",\"root\",\"123456\",\"analysis.db\",charset=\"utf8\")\n",
    "cursor = cnx.cursor()\n",
    "\n",
    "i = 1\n",
    "BOM = codecs.BOM_UTF8.decode('utf8')\n",
    "\n",
    "\n",
    "for o in glob.glob(\"E:\\\\mysql\\\\Top120\\\\Season\\\\lose\\\\*.txt\"):\n",
    "    with io.open(o, 'r', encoding='utf-8') as f: #做字典的檔案\n",
    "        for lines in f: #一行為單位\n",
    "            lines = lines.lstrip(BOM) #處理編碼問題\n",
    "\n",
    "            datain = lines.split(',')\n",
    "            #print datain[0],datain[1],datain[2],datain[3],datain[4],datain[5],datain[6],datain[7],datain[8],datain[9],datain[10]\n",
    "                                    #資料表名稱\n",
    "            add_record=\"INSERT INTO top_100_by_season_loss \\\n",
    "                        (keyword,count) \\\n",
    "                        VALUES (%s, %s)\"\n",
    "            try:\n",
    "                cursor.execute(add_record,(datain[0],datain[1]))\n",
    "            except:\n",
    "                a,b,c = sys.exc_info()\n",
    "                print a,b,c\n",
    "                print lines.split()[0]\n",
    "                cursor.close()\n",
    "                cnx.close()\n",
    "            i +=1\n",
    "#\n",
    "cnx.commit()\n",
    "cursor.close()\n",
    "cnx.close()"
   ]
  },
  {
   "cell_type": "markdown",
   "metadata": {},
   "source": [
    "# top_100_by_Month_win"
   ]
  },
  {
   "cell_type": "code",
   "execution_count": 126,
   "metadata": {
    "collapsed": true
   },
   "outputs": [],
   "source": [
    "import MySQLdb,io,sys,codecs,glob\n",
    "\n",
    "#資料庫IP,ID,pass,schema名稱,預設編碼\n",
    "cnx = MySQLdb.connect(\"localhost\",\"root\",\"123456\",\"analysis.db\",charset=\"utf8\")\n",
    "cursor = cnx.cursor()\n",
    "\n",
    "i = 1\n",
    "BOM = codecs.BOM_UTF8.decode('utf8')\n",
    "\n",
    "\n",
    "for o in glob.glob(\"E:\\\\mysql\\\\Top120\\\\Month\\\\win\\\\*.txt\"):\n",
    "    with io.open(o, 'r', encoding='utf-8') as f: #做字典的檔案\n",
    "        for lines in f: #一行為單位\n",
    "            lines = lines.lstrip(BOM) #處理編碼問題\n",
    "\n",
    "            datain = lines.split(',')\n",
    "            #print datain[0],datain[1],datain[2],datain[3],datain[4],datain[5],datain[6],datain[7],datain[8],datain[9],datain[10]\n",
    "                                    #資料表名稱\n",
    "            add_record=\"INSERT INTO top_100_by_month_win \\\n",
    "                        (keyword,count) \\\n",
    "                        VALUES (%s, %s)\"\n",
    "            try:\n",
    "                cursor.execute(add_record,(datain[0],datain[1]))\n",
    "            except:\n",
    "                a,b,c = sys.exc_info()\n",
    "                print a,b,c\n",
    "                print lines.split()[0]\n",
    "                cursor.close()\n",
    "                cnx.close()\n",
    "            i +=1\n",
    "#\n",
    "cnx.commit()\n",
    "cursor.close()\n",
    "cnx.close()"
   ]
  },
  {
   "cell_type": "markdown",
   "metadata": {},
   "source": [
    "# top_100_by_Month_lose"
   ]
  },
  {
   "cell_type": "code",
   "execution_count": 127,
   "metadata": {
    "collapsed": true
   },
   "outputs": [],
   "source": [
    "import MySQLdb,io,sys,codecs,glob\n",
    "\n",
    "#資料庫IP,ID,pass,schema名稱,預設編碼\n",
    "cnx = MySQLdb.connect(\"localhost\",\"root\",\"123456\",\"analysis.db\",charset=\"utf8\")\n",
    "cursor = cnx.cursor()\n",
    "\n",
    "i = 1\n",
    "BOM = codecs.BOM_UTF8.decode('utf8')\n",
    "\n",
    "\n",
    "for o in glob.glob(\"E:\\\\mysql\\\\Top120\\\\Month\\\\loss\\\\*.txt\"):\n",
    "    with io.open(o, 'r', encoding='utf-8') as f: #做字典的檔案\n",
    "        for lines in f: #一行為單位\n",
    "            lines = lines.lstrip(BOM) #處理編碼問題\n",
    "\n",
    "            datain = lines.split(',')\n",
    "            #print datain[0],datain[1],datain[2],datain[3],datain[4],datain[5],datain[6],datain[7],datain[8],datain[9],datain[10]\n",
    "                                    #資料表名稱\n",
    "            add_record=\"INSERT INTO top_100_by_month_loss \\\n",
    "                        (keyword,count) \\\n",
    "                        VALUES (%s, %s)\"\n",
    "            try:\n",
    "                cursor.execute(add_record,(datain[0],datain[1]))\n",
    "            except:\n",
    "                a,b,c = sys.exc_info()\n",
    "                print a,b,c\n",
    "                print lines.split()[0]\n",
    "                cursor.close()\n",
    "                cnx.close()\n",
    "            i +=1\n",
    "#\n",
    "cnx.commit()\n",
    "cursor.close()\n",
    "cnx.close()"
   ]
  },
  {
   "cell_type": "code",
   "execution_count": null,
   "metadata": {
    "collapsed": true
   },
   "outputs": [],
   "source": []
  },
  {
   "cell_type": "code",
   "execution_count": null,
   "metadata": {
    "collapsed": true
   },
   "outputs": [],
   "source": []
  },
  {
   "cell_type": "code",
   "execution_count": null,
   "metadata": {
    "collapsed": true
   },
   "outputs": [],
   "source": []
  },
  {
   "cell_type": "code",
   "execution_count": null,
   "metadata": {
    "collapsed": true
   },
   "outputs": [],
   "source": []
  },
  {
   "cell_type": "code",
   "execution_count": null,
   "metadata": {
    "collapsed": true
   },
   "outputs": [],
   "source": []
  },
  {
   "cell_type": "code",
   "execution_count": null,
   "metadata": {
    "collapsed": true
   },
   "outputs": [],
   "source": []
  },
  {
   "cell_type": "code",
   "execution_count": null,
   "metadata": {
    "collapsed": true
   },
   "outputs": [],
   "source": []
  }
 ],
 "metadata": {
  "kernelspec": {
   "display_name": "Python 2",
   "language": "python",
   "name": "python2"
  },
  "language_info": {
   "codemirror_mode": {
    "name": "ipython",
    "version": 2
   },
   "file_extension": ".py",
   "mimetype": "text/x-python",
   "name": "python",
   "nbconvert_exporter": "python",
   "pygments_lexer": "ipython2",
   "version": "2.7.6"
  }
 },
 "nbformat": 4,
 "nbformat_minor": 0
}
