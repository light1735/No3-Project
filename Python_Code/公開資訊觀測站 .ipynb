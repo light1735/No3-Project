{
 "cells": [
  {
   "cell_type": "code",
   "execution_count": 1,
   "metadata": {
    "collapsed": false,
    "scrolled": true
   },
   "outputs": [
    {
     "name": "stdout",
     "output_type": "stream",
     "text": [
      "1\n",
      "2\n",
      "3\n",
      "4\n",
      "5\n",
      "6\n",
      "7\n",
      "8\n",
      "9\n",
      "10\n",
      "11\n",
      "12\n",
      "13\n",
      "14\n",
      "15\n",
      "16\n",
      "17\n",
      "18\n",
      "19\n",
      "20\n",
      "21\n",
      "22\n",
      "23\n",
      "24\n",
      "25\n",
      "26\n",
      "27\n",
      "28\n",
      "29\n",
      "30\n",
      "31\n",
      "32\n",
      "33\n",
      "34\n",
      "35\n",
      "36\n",
      "37\n",
      "38\n",
      "39\n",
      "40\n",
      "41\n",
      "42\n",
      "43\n",
      "44\n",
      "45\n",
      "46\n",
      "47\n",
      "48\n",
      "49\n",
      "50\n",
      "51\n",
      "52\n",
      "53\n",
      "54\n",
      "55\n",
      "56\n",
      "57\n",
      "58\n",
      "59\n",
      "60\n",
      "61\n",
      "62\n",
      "63\n",
      "64\n",
      "65\n",
      "66\n",
      "67\n",
      "68\n",
      "69\n",
      "70\n",
      "71\n",
      "72\n",
      "73\n",
      "74\n",
      "75\n",
      "76\n",
      "77\n",
      "78\n",
      "79\n",
      "80\n",
      "81\n",
      "82\n",
      "83\n",
      "84\n",
      "85\n",
      "86\n",
      "87\n",
      "88\n",
      "89\n",
      "90\n",
      "91\n",
      "92\n",
      "93\n",
      "94\n",
      "95\n",
      "96\n",
      "97\n",
      "98\n",
      "99\n",
      "100\n",
      "101\n",
      "102\n",
      "103\n",
      "104\n",
      "105\n",
      "106\n",
      "107\n",
      "108\n",
      "109\n",
      "110\n",
      "111\n",
      "112\n",
      "113\n",
      "114\n",
      "115\n",
      "116\n",
      "117\n",
      "118\n",
      "119\n",
      "120\n",
      "121\n",
      "122\n",
      "123\n",
      "124\n",
      "125\n",
      "126\n",
      "127\n",
      "128\n",
      "129\n",
      "130\n",
      "131\n",
      "132\n",
      "133\n",
      "134\n",
      "135\n",
      "136\n",
      "137\n",
      "138\n",
      "139\n",
      "140\n",
      "141\n",
      "142\n",
      "143\n",
      "144\n",
      "145\n",
      "146\n",
      "147\n",
      "148\n",
      "149\n",
      "150\n",
      "151\n",
      "152\n",
      "153\n",
      "154\n",
      "155\n",
      "156\n",
      "157\n",
      "158\n",
      "159\n",
      "160\n",
      "161\n",
      "925.397000074\n"
     ]
    },
    {
     "data": {
      "text/plain": [
       "'\\nres2 = requests.post(\"http://mops.twse.com.tw/mops/web/t05st03\",data=payload)\\nres2.encoding = \\'big5\\'\\nsoup2 = BeautifulSoup(res2.text)\\nitem2 = soup2.select(\"center\")\\ntest2 =re.search(u\\'\\xe6\\x9f\\xa5\\xe8\\xa9\\xa2\\xe9\\x81\\x8e\\xe6\\x96\\xbc\\xe9\\xa0\\xbb\\xe7\\xb9\\x81\\',item2[0].text)\\nif test2:\\n    print item2[0].text\\nelse:\\n    print item[0].text\\n\\n'"
      ]
     },
     "execution_count": 1,
     "metadata": {},
     "output_type": "execute_result"
    }
   ],
   "source": [
    "import requests,re,time\n",
    "from bs4 import BeautifulSoup\n",
    "\n",
    "stock = open(\"E:\\\\python\\\\stock2.txt\",'r')\n",
    "stock_write = open(\"E:\\\\python\\\\stock_table2.txt\",'a')\n",
    "\n",
    "field={u\"董事長\",u\"股票代號\",u\"產業類別\",u\"公司名稱\",u\"總經理\",u\"主要經營業務\",u\"已發行普通股數或TDR原股發行股數\",\n",
    "       u\"上市日期\",u\"實收資本額\"}\n",
    "com_data=''\n",
    "count =0\n",
    "start = time.time()\n",
    "read = \"\".join(stock.read().split())\n",
    "match = re.findall(\"[0-9]+\",read)\n",
    "\n",
    "for i in range(0,len(match)):\n",
    "    payload= {\"firstin\":\"1\",\"co_id\":match[i]}\n",
    "    res2 = requests.post(\"http://mops.twse.com.tw/mops/web/t05st03\",data=payload)\n",
    "    res2.encoding = 'big5'\n",
    "    soup2 = BeautifulSoup(res2.text)\n",
    "    item2 = soup2.select(\"center\")\n",
    "    busy =re.search(u'查詢過於頻繁',item2[0].text)\n",
    "    \n",
    "    while busy:\n",
    "        time.sleep(10)\n",
    "        res2 = requests.post(\"http://mops.twse.com.tw/mops/web/t05st03\",data=payload)\n",
    "        res2.encoding = 'big5'\n",
    "        soup2 = BeautifulSoup(res2.text)\n",
    "        item2 = soup2.select(\"center\")\n",
    "        busy =re.search(u'查詢過於頻繁',item2[0].text)\n",
    "        \n",
    "    res = requests.post(\"http://mops.twse.com.tw/mops/web/t05st03\",data=payload)\n",
    "    res.encoding = 'utf-8'\n",
    "    soup = BeautifulSoup(res.text)\n",
    "    if soup.select(\".hasBorder tr\") !=[]:\n",
    "        item = soup.select(\".hasBorder tr\")[0]\n",
    "        itme_split = str(item).split('\">')\n",
    "\n",
    "        for i in range(0,len(itme_split)):\n",
    "            if itme_split[i].split('<')[0].decode('utf-8') in field:\n",
    "                com_data += \"\".join(itme_split[i+1].split('<')[0].split())\n",
    "                com_data += \"_\"\n",
    "\n",
    "        stock_write.write(com_data+\"\\n\")       \n",
    "        com_data=''\n",
    "        count +=1\n",
    "        print str(count)\n",
    "        time.sleep(1.5)\n",
    "\n",
    "\n",
    "end = time.time()\n",
    "print end - start\n",
    "stock_write.write(str(count))\n",
    "stock.close()\n",
    "stock_write.close()\n",
    "'''\n",
    "res2 = requests.post(\"http://mops.twse.com.tw/mops/web/t05st03\",data=payload)\n",
    "res2.encoding = 'big5'\n",
    "soup2 = BeautifulSoup(res2.text)\n",
    "item2 = soup2.select(\"center\")\n",
    "test2 =re.search(u'查詢過於頻繁',item2[0].text)\n",
    "if test2:\n",
    "    print item2[0].text\n",
    "else:\n",
    "    print item[0].text\n",
    "\n",
    "'''\n"
   ]
  },
  {
   "cell_type": "code",
   "execution_count": null,
   "metadata": {
    "collapsed": true
   },
   "outputs": [],
   "source": []
  },
  {
   "cell_type": "code",
   "execution_count": 6,
   "metadata": {
    "collapsed": false
   },
   "outputs": [
    {
     "name": "stdout",
     "output_type": "stream",
     "text": [
      "10592\n"
     ]
    }
   ],
   "source": [
    "import re\n",
    "\n",
    "f = open(\"E:\\\\python\\\\stock_table2.txt\",'r')\n",
    "\n",
    "read = \"\".join(f.read().split())\n",
    "match = re.findall(\"[0-9]+\",read)\n",
    "#print match\n",
    "#print match[869-1]\n",
    "print len(match)\n",
    "#print \"\".join(f.read().split())\n",
    "\n",
    "\n",
    "f.close()"
   ]
  },
  {
   "cell_type": "code",
   "execution_count": 187,
   "metadata": {
    "collapsed": false
   },
   "outputs": [
    {
     "name": "stdout",
     "output_type": "stream",
     "text": [
      "{'co_id': '', 'firstin': '1'}\n",
      "{'co_id': '1234', 'firstin': '1'}\n",
      "<type 'dict'>\n"
     ]
    }
   ],
   "source": [
    "m = \"1234\"\n",
    "payload= {\"firstin\":\"1\",\"co_id\":\"\"}\n",
    "\n",
    "print payload\n",
    "payload.update({\"co_id\":m})\n",
    "\n",
    "print payload\n",
    "\n",
    "print type(payload)"
   ]
  },
  {
   "cell_type": "code",
   "execution_count": 8,
   "metadata": {
    "collapsed": false
   },
   "outputs": [
    {
     "name": "stdout",
     "output_type": "stream",
     "text": [
      "875\n"
     ]
    }
   ],
   "source": [
    "f = open(\"E:\\\\python\\\\stock_table2.txt\",'r')\n",
    "line_num = 0\n",
    "for line in f.readlines():\n",
    "    line_num = line_num+1\n",
    "print line_num\n",
    "f.close()"
   ]
  },
  {
   "cell_type": "code",
   "execution_count": 42,
   "metadata": {
    "collapsed": false,
    "scrolled": false
   },
   "outputs": [
    {
     "name": "stdout",
     "output_type": "stream",
     "text": [
      "股票代號\n",
      "1783\n",
      "產業類別\n",
      "生技醫療業 \n",
      "公司名稱\n",
      "和康生物科技股份有限公司\n",
      "董事長\n",
      "徐立德\n",
      "總經理\n",
      "張立言\n",
      "總經理\n",
      "發言人電話\n",
      "主要經營業務\n",
      "生物高分子材料應用於生物醫材及醫美保養品的研發、製造及銷售\n",
      "實收資本額\n",
      "705,010,000元\n",
      "上市日期\n",
      "102/12/20\n",
      "已發行普通股數或TDR原股發行股數\n",
      "70,501,000股(含私募0股)\n",
      "51\n",
      "48\n"
     ]
    }
   ],
   "source": [
    "import requests,re,time\n",
    "from bs4 import BeautifulSoup\n",
    "\n",
    "payload= {\"firstin\":\"1\",\"co_id\":\"1783\"}\n",
    "res = requests.post(\"http://mops.twse.com.tw/mops/web/t05st03\",data=payload)\n",
    "res.encoding = 'utf-8'\n",
    "soup = BeautifulSoup(res.text)\n",
    "item = soup.select(\".hasBorder tr\")[0]\n",
    "filed={u\"董事長\",u\"股票代號\",u\"產業類別\",u\"公司名稱\",u\"總經理\",u\"主要經營業務\",u\"已發行普通股數或TDR原股發行股數\",\n",
    "       u\"上市日期\",u\"實收資本額\"}\n",
    "\n",
    "itme_split = str(item).split('\">')\n",
    "\n",
    "for i in range(0,len(itme_split)):\n",
    "    if itme_split[i].split('<')[0].decode('utf-8') in filed:\n",
    "        print itme_split[i].split('<')[0].strip()\n",
    "        print \"\".join(itme_split[i+1].split('<')[0].split())\n",
    "'''\n",
    "\n",
    "\n",
    "test2 = item.select(\".dColor\")[0].text\n",
    "test = str(item).split('\">')[1].split('<')[0]\n",
    "print test.decode('utf-8') in filed\n",
    "#print type(test2)\n",
    "\n",
    "\n",
    "\n",
    "for i in range(0,len(item.select(\".dColor\"))):\n",
    "    if item.select(\".dColor\")[i].text in filed:\n",
    "        print item.select(\".dColor\")[i].text\n",
    "        print item.select(\".lColor\")[i].text \n",
    "'''\n",
    "\n",
    "print len(item.select(\".dColor\"))\n",
    "print len(item.select(\".lColor\"))\n",
    "#print \"/\".join(item.text.split())"
   ]
  },
  {
   "cell_type": "code",
   "execution_count": null,
   "metadata": {
    "collapsed": true
   },
   "outputs": [],
   "source": []
  },
  {
   "cell_type": "code",
   "execution_count": 115,
   "metadata": {
    "collapsed": false
   },
   "outputs": [
    {
     "name": "stdout",
     "output_type": "stream",
     "text": [
      "\n",
      "\n",
      "查詢過於頻繁，請於稍後再查詢!\n",
      "\n",
      "\n"
     ]
    },
    {
     "data": {
      "text/plain": [
       "'\\ncom_stock_id =  item.select(\"td\")[0].text\\ncom_industry = item.select(\"td\")[1].text.strip()\\ncom_name = item.select(\"td\")[3].text\\ncom_chairman = item.select(\"td\")[6].text\\ncom_manager = item.select(\"td\")[7].text\\ncom_business = item.select(\"td\")[17].text\\ncom_capital =  item.select(\"td\")[20].text.strip()\\ncom_date = item.select(\"td\")[23].text\\ncom_shares = \"\".join(item.select(\"td\")[26].text.split())\\ncount +=1\\n\\nall_text = com_stock_id+\"_\"+com_industry+\"_\"+com_name+\"_\"+com_chairman+\"_\"+com_manager+\"_\"+com_business+\"_\"+com_capital+\"_\"+com_date+\"_\"+com_shares\\n'"
      ]
     },
     "execution_count": 115,
     "metadata": {},
     "output_type": "execute_result"
    }
   ],
   "source": [
    "#coding=utf-8\n",
    "\n",
    "payload= {\"firstin\":\"1\",\"co_id\":\"1612\"}\n",
    "\n",
    "res = requests.post(\"http://mops.twse.com.tw/mops/web/t05st03\",data=payload)\n",
    "res2 = requests.post(\"http://mops.twse.com.tw/mops/web/t05st03\",data=payload)\n",
    "\n",
    "res.encoding = 'utf-8'\n",
    "res2.encoding = 'big5'\n",
    "\n",
    "soup = BeautifulSoup(res.text)\n",
    "soup2 = BeautifulSoup(res2.text)\n",
    "\n",
    "item = soup.select(\"center\")\n",
    "item2 = soup2.select(\"center\")\n",
    "\n",
    "test2 =re.search(u'查詢過於頻繁',item2[0].text)\n",
    "\n",
    "if test2:\n",
    "    print item2[0].text\n",
    "else:\n",
    "    print item[0].text\n",
    "\n",
    "'''\n",
    "com_stock_id =  item.select(\"td\")[0].text\n",
    "com_industry = item.select(\"td\")[1].text.strip()\n",
    "com_name = item.select(\"td\")[3].text\n",
    "com_chairman = item.select(\"td\")[6].text\n",
    "com_manager = item.select(\"td\")[7].text\n",
    "com_business = item.select(\"td\")[17].text\n",
    "com_capital =  item.select(\"td\")[20].text.strip()\n",
    "com_date = item.select(\"td\")[23].text\n",
    "com_shares = \"\".join(item.select(\"td\")[26].text.split())\n",
    "count +=1\n",
    "\n",
    "all_text = com_stock_id+\"_\"+com_industry+\"_\"+com_name+\"_\"+com_chairman+\"_\"+com_manager+\"_\"+com_business+\"_\"+com_capital+\"_\"+com_date+\"_\"+com_shares\n",
    "'''\n"
   ]
  },
  {
   "cell_type": "code",
   "execution_count": 107,
   "metadata": {
    "collapsed": false
   },
   "outputs": [
    {
     "name": "stdout",
     "output_type": "stream",
     "text": [
      "<_sre.SRE_Match object at 0x0000000004C0F718>\n"
     ]
    }
   ],
   "source": [
    "test = u'查詢過於頻繁，請於稍後再查詢!'\n",
    "\n",
    "test2 =re.match(u'查詢過於頻繁',test)\n",
    "\n",
    "if test2:\n",
    "    print test2"
   ]
  },
  {
   "cell_type": "code",
   "execution_count": null,
   "metadata": {
    "collapsed": true
   },
   "outputs": [],
   "source": []
  },
  {
   "cell_type": "code",
   "execution_count": null,
   "metadata": {
    "collapsed": true
   },
   "outputs": [],
   "source": []
  },
  {
   "cell_type": "code",
   "execution_count": 199,
   "metadata": {
    "collapsed": true
   },
   "outputs": [],
   "source": [
    "payload= {\"menusave\":\"6\",\n",
    "\"firstin\":\"1\",\n",
    "\"TYPEK\":\"all\",\n",
    "\"step\":\"1\",\n",
    "\"keyh\":\"2482\",\n",
    "\"keycon\":\"1\",\n",
    "\"co_id\":\"2482\",\n",
    "\"slth\":\"1\",\n",
    "\"slt1h\":\"1\",\n",
    "\"sort\":\"1\",\n",
    "\"noticeDate\":\"2\",\n",
    "\"r1\":\"1\",\n",
    "\"funcName\":\"t05st03\",\n",
    "\"Stp\":\"MH\",\n",
    "\"keyword\":\"2482\",\n",
    "\"select\":\"1\",\n",
    "\"select1\":\"1\"}"
   ]
  },
  {
   "cell_type": "code",
   "execution_count": null,
   "metadata": {
    "collapsed": true
   },
   "outputs": [],
   "source": [
    "\"menusave\":\"6\"\n",
    "\"firstin\":\"1\"\n",
    "\"TYPEK\":\"all\"\n",
    "\"step\":\"1\"\n",
    "\"keyh\":\"2482\"\n",
    "\"keycon\":\"1\"\n",
    "\"co_id\":\"2482\"\n",
    "\"slth\":\"1\"\n",
    "\"slt1h\":\"1\"\n",
    "\"sort\":\"1\"\n",
    "\"noticeDate\":\"2\"\n",
    "\"r1\":\"1\"\n",
    "\"funcName\":\"t05st03\"\n",
    "\"Stp\":\"MH\"\n",
    "\"keyword\":2482\"\n",
    "\"select\":\"1\"\n",
    "\"select1\":\"1\""
   ]
  },
  {
   "cell_type": "code",
   "execution_count": 1,
   "metadata": {
    "collapsed": false
   },
   "outputs": [
    {
     "ename": "SyntaxError",
     "evalue": "invalid syntax (<ipython-input-1-d394e2c97919>, line 1)",
     "output_type": "error",
     "traceback": [
      "\u001b[1;36m  File \u001b[1;32m\"<ipython-input-1-d394e2c97919>\"\u001b[1;36m, line \u001b[1;32m1\u001b[0m\n\u001b[1;33m    \"menusave\":\"6\"\u001b[0m\n\u001b[1;37m              ^\u001b[0m\n\u001b[1;31mSyntaxError\u001b[0m\u001b[1;31m:\u001b[0m invalid syntax\n"
     ]
    }
   ],
   "source": [
    "\"menusave\":\"6\"\n",
    "\"firstin\":\"1\"\n",
    "\"TYPEK\":\"all\"\n",
    "\"step:1\n",
    "\"keyh:2482\n",
    "\"keyhu:\n",
    "\"key1h:\n",
    "\"keycon:1\n",
    "\"co_id:2482\n",
    "\"slth:1\n",
    "\"slt1h:1\n",
    "\"keyword1:\n",
    "\"TYPEK1:\n",
    "\"code1:\n",
    "\"checkbtn:\n",
    "\"co_id_1:\n",
    "\"co_id_2:\n",
    "\"sort:1\n",
    "\"date:\n",
    "\"noticeKind:\n",
    "\"noticeDate:2\n",
    "\"r1:1\n",
    "\"funcName:t05st03\n",
    "\"Stp:MH\n",
    "\"keyword:2482\n",
    "\"keyword3:\n",
    "\"select:1\n",
    "\"select1:1"
   ]
  },
  {
   "cell_type": "code",
   "execution_count": null,
   "metadata": {
    "collapsed": true
   },
   "outputs": [],
   "source": []
  },
  {
   "cell_type": "code",
   "execution_count": null,
   "metadata": {
    "collapsed": true
   },
   "outputs": [],
   "source": []
  },
  {
   "cell_type": "code",
   "execution_count": null,
   "metadata": {
    "collapsed": true
   },
   "outputs": [],
   "source": []
  },
  {
   "cell_type": "code",
   "execution_count": null,
   "metadata": {
    "collapsed": true
   },
   "outputs": [],
   "source": []
  },
  {
   "cell_type": "code",
   "execution_count": 13,
   "metadata": {
    "collapsed": false
   },
   "outputs": [
    {
     "name": "stdout",
     "output_type": "stream",
     "text": [
      "<p class=\"info\"><a class=\"blackLink\" href=\"http://news.sina.com\">http://news.sina.com</a>   2014年03月09日 23:49   <a class=\"fromLink\" href=\"http://www.cna.com.tw/\" target=\"_blank\">中央社即時</a></p>\n",
      "年03月09日 23:49   \n"
     ]
    }
   ],
   "source": [
    "import requests,re,time\n",
    "from bs4 import BeautifulSoup\n",
    "\n",
    "res = requests.get('http://dailynews.sina.com/bg/tw/twfinance/cna/20140309/23495532940.html')\n",
    "res.encoding = 'utf-8'\n",
    "soup1 = BeautifulSoup(res.text)\n",
    "\n",
    "year = \"2014\"\n",
    "elements1 = soup1.select('.blk_01')[0]\n",
    "#.split(str(year))[1].split('<a')[0]).text.strip().split()\n",
    "time = str(elements1.select('.info')[0])\n",
    "times2 = str(elements1.select('.info')[0]).split(year)[1].split('<a')[0]\n",
    "\n",
    "print time\n",
    "print times2"
   ]
  }
 ],
 "metadata": {
  "kernelspec": {
   "display_name": "Python 2",
   "language": "python",
   "name": "python2"
  },
  "language_info": {
   "codemirror_mode": {
    "name": "ipython",
    "version": 2
   },
   "file_extension": ".py",
   "mimetype": "text/x-python",
   "name": "python",
   "nbconvert_exporter": "python",
   "pygments_lexer": "ipython2",
   "version": "2.7.6"
  }
 },
 "nbformat": 4,
 "nbformat_minor": 0
}
