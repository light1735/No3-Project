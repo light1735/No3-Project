{
 "cells": [
  {
   "cell_type": "markdown",
   "metadata": {
    "collapsed": true
   },
   "source": [
    "##抓內文測試"
   ]
  },
  {
   "cell_type": "code",
   "execution_count": 87,
   "metadata": {
    "collapsed": false
   },
   "outputs": [
    {
     "name": "stdout",
     "output_type": "stream",
     "text": [
      "甲醇基本面平穩 期價延續震盪格局\n",
      "鉅亨網新聞中心　(來源：和訊網)　2015-03-30  16:31　\n",
      "周內甲醇期價一度沖高回落，市場交投氣氛減弱。現貨市場價格漲跌不一，基本面表現平穩，甲醇價格或繼續維持震盪局面。\n",
      "1、甲醇現貨價格漲跌互現\n",
      "上周，華北地區甲醇現貨中間價回落至1950元/噸附近，與3月初水平相當；華南地區甲醇現貨中間價上漲20元/噸至2295元/噸；華東地區甲醇現貨中間價周內最低至2385元/噸，最高2415元/噸；西北地區甲醇現貨中間價由上周末的1950元/噸回落至1890元/噸；西南地區甲醇現貨中間價由2175元/噸上漲至2240元/噸；東北地區甲醇現貨中間價由2225元/噸附近上漲至2290元/噸；華中地區甲醇現貨價由2235元/噸回落至2190元/噸。\n",
      "\n",
      "國際甲醇價格企穩回升。其中，中國主港周內平穩為主，但臨近周末漲幅較大，導致cfr中國主港甲醇現貨中間價格周內漲13美元/噸；cfr東南亞甲醇現貨價格小幅上漲3.5美元/噸；歐洲市場因中東到貨減少，供應預期偏緊，fob鹿特丹甲醇現貨價格平穩；美國市場供應穩定，fob美國海灣甲醇現貨價格漲1美元/噸。\n",
      "2、開工率下降，庫存平穩\n",
      "據石化資訊網統計，甲醇開工率小幅回落，本周至50.20%（-0.84%）。 本周裝置除之前中原大化、金誠泰、山東新能鳳凰、中海油等停車裝置以外，另有蒲城能源裝置停車，其余主流工廠裝置基本正常運行，山西地區因環保原因，限產企業較多，供應量偏少，西北地區基本正常運行。\n",
      "\n",
      "甲醇港口庫存止跌回升，尤其以江蘇地區港口庫存回升明顯，但華南地區有回落。具體為，江蘇38.5（+3.2）萬噸，寧波18.3（+0.5）萬噸，華南30.4（-3.6）萬噸，合計87.2（+0.1）萬噸。\n",
      "\n",
      "3、需求端表現平穩\n",
      "因下游板材、膠廠開工情況不佳，國內甲醛市場運行平穩；部分醋酸廠家檢修導致醋酸供應預期減少，外加近期出口訂單增加，醋酸價格堅挺；周內液化氣行情回暖，但二甲醚企業庫存較高，需求並無明顯好轉；受原油市場反彈提振，mtbe企業挺價意愿強；烯烴裝置變動不大，山東陽煤恒通預計4月份試車，興興能源計劃月底投產，目前原料儲備較為充足。\n"
     ]
    }
   ],
   "source": [
    "# -*- coding:utf-8 -*-\n",
    "import requests, time\n",
    "from bs4 import BeautifulSoup\n",
    "response = requests.get('http://news.cnyes.com/20150330/%E7%94%B2%E9%86%87%E5%9F%BA%E6%9C%AC%E9%9D%A2%E5%B9%B3%E7%A9%A9-%E6%9C%9F%E5%83%B9%E5%BB%B6%E7%BA%8C%E9%9C%87%E8%95%A9%E6%A0%BC%E5%B1%80-163104908944510.shtml?c=industry')\n",
    "response.encoding = 'utf-8'\n",
    "#print response.text\n",
    "soup = BeautifulSoup(response.text)\n",
    "#print soup\n",
    "elements = soup.select('.newsContent.bg_newsPage_Lblue')[0]\n",
    "title = elements.select('h1')[0].text\n",
    "info = elements.select('.info')[0].text\n",
    "print title\n",
    "print info\n",
    "contents = elements.select('#newsText p')\n",
    "for content in contents:\n",
    "    print content.text\n",
    "    "
   ]
  },
  {
   "cell_type": "markdown",
   "metadata": {},
   "source": [
    "###頭條、時事、台股、期貨、能源、黃金、基金、產業  日期可自己調 txt檔     請看這個"
   ]
  },
  {
   "cell_type": "code",
   "execution_count": 5,
   "metadata": {
    "collapsed": false
   },
   "outputs": [
    {
     "ename": "ConnectionError",
     "evalue": "('Connection aborted.', error(10060, '\\xb3s\\xbdu\\xb9\\xc1\\xb8\\xd5\\xa5\\xa2\\xb1\\xd1\\xa1A\\xa6]\\xac\\xb0\\xb3s\\xbdu\\xb9\\xef\\xb6H\\xa6\\xb3\\xa4@\\xacq\\xae\\xc9\\xb6\\xa1\\xa8\\xc3\\xa5\\xbc\\xa5\\xbf\\xbdT\\xa6^\\xc0\\xb3\\xa1A\\xa9\\xce\\xacO\\xb3s\\xbdu\\xab\\xd8\\xa5\\xdf\\xa5\\xa2\\xb1\\xd1\\xa1A\\xa6]\\xac\\xb0\\xb3s\\xbdu\\xaa\\xba\\xa5D\\xbe\\xf7\\xb5L\\xaak\\xa6^\\xc0\\xb3\\xa1C'))",
     "output_type": "error",
     "traceback": [
      "\u001b[1;31m---------------------------------------------------------------------------\u001b[0m",
      "\u001b[1;31mConnectionError\u001b[0m                           Traceback (most recent call last)",
      "\u001b[1;32m<ipython-input-5-522a6598a298>\u001b[0m in \u001b[0;36m<module>\u001b[1;34m()\u001b[0m\n\u001b[0;32m     34\u001b[0m                             \u001b[0msubtitle\u001b[0m \u001b[1;33m=\u001b[0m \u001b[0mitem\u001b[0m\u001b[1;33m.\u001b[0m\u001b[0mselect\u001b[0m\u001b[1;33m(\u001b[0m\u001b[1;34m'a'\u001b[0m\u001b[1;33m)\u001b[0m\u001b[1;33m[\u001b[0m\u001b[1;36m0\u001b[0m\u001b[1;33m]\u001b[0m\u001b[1;33m.\u001b[0m\u001b[0mtext\u001b[0m\u001b[1;33m\u001b[0m\u001b[0m\n\u001b[0;32m     35\u001b[0m                             \u001b[0mhref\u001b[0m \u001b[1;33m=\u001b[0m \u001b[0mitem\u001b[0m\u001b[1;33m.\u001b[0m\u001b[0mselect\u001b[0m\u001b[1;33m(\u001b[0m\u001b[1;34m'a'\u001b[0m\u001b[1;33m)\u001b[0m\u001b[1;33m[\u001b[0m\u001b[1;36m1\u001b[0m\u001b[1;33m]\u001b[0m\u001b[1;33m[\u001b[0m\u001b[1;34m'href'\u001b[0m\u001b[1;33m]\u001b[0m\u001b[1;33m\u001b[0m\u001b[0m\n\u001b[1;32m---> 36\u001b[1;33m                             \u001b[0mresp\u001b[0m \u001b[1;33m=\u001b[0m \u001b[0mrequests\u001b[0m\u001b[1;33m.\u001b[0m\u001b[0mget\u001b[0m\u001b[1;33m(\u001b[0m\u001b[1;34m'http://news.cnyes.com'\u001b[0m \u001b[1;33m+\u001b[0m \u001b[0mhref\u001b[0m\u001b[1;33m)\u001b[0m\u001b[1;33m\u001b[0m\u001b[0m\n\u001b[0m\u001b[0;32m     37\u001b[0m                             \u001b[0mresp\u001b[0m\u001b[1;33m.\u001b[0m\u001b[0mencoding\u001b[0m \u001b[1;33m=\u001b[0m \u001b[1;34m'utf-8'\u001b[0m\u001b[1;33m\u001b[0m\u001b[0m\n\u001b[0;32m     38\u001b[0m                             \u001b[1;31m#print response.text\u001b[0m\u001b[1;33m\u001b[0m\u001b[1;33m\u001b[0m\u001b[0m\n",
      "\u001b[1;32mC:\\Python27\\lib\\site-packages\\requests\\api.pyc\u001b[0m in \u001b[0;36mget\u001b[1;34m(url, **kwargs)\u001b[0m\n\u001b[0;32m     63\u001b[0m \u001b[1;33m\u001b[0m\u001b[0m\n\u001b[0;32m     64\u001b[0m     \u001b[0mkwargs\u001b[0m\u001b[1;33m.\u001b[0m\u001b[0msetdefault\u001b[0m\u001b[1;33m(\u001b[0m\u001b[1;34m'allow_redirects'\u001b[0m\u001b[1;33m,\u001b[0m \u001b[0mTrue\u001b[0m\u001b[1;33m)\u001b[0m\u001b[1;33m\u001b[0m\u001b[0m\n\u001b[1;32m---> 65\u001b[1;33m     \u001b[1;32mreturn\u001b[0m \u001b[0mrequest\u001b[0m\u001b[1;33m(\u001b[0m\u001b[1;34m'get'\u001b[0m\u001b[1;33m,\u001b[0m \u001b[0murl\u001b[0m\u001b[1;33m,\u001b[0m \u001b[1;33m**\u001b[0m\u001b[0mkwargs\u001b[0m\u001b[1;33m)\u001b[0m\u001b[1;33m\u001b[0m\u001b[0m\n\u001b[0m\u001b[0;32m     66\u001b[0m \u001b[1;33m\u001b[0m\u001b[0m\n\u001b[0;32m     67\u001b[0m \u001b[1;33m\u001b[0m\u001b[0m\n",
      "\u001b[1;32mC:\\Python27\\lib\\site-packages\\requests\\api.pyc\u001b[0m in \u001b[0;36mrequest\u001b[1;34m(method, url, **kwargs)\u001b[0m\n\u001b[0;32m     47\u001b[0m \u001b[1;33m\u001b[0m\u001b[0m\n\u001b[0;32m     48\u001b[0m     \u001b[0msession\u001b[0m \u001b[1;33m=\u001b[0m \u001b[0msessions\u001b[0m\u001b[1;33m.\u001b[0m\u001b[0mSession\u001b[0m\u001b[1;33m(\u001b[0m\u001b[1;33m)\u001b[0m\u001b[1;33m\u001b[0m\u001b[0m\n\u001b[1;32m---> 49\u001b[1;33m     \u001b[0mresponse\u001b[0m \u001b[1;33m=\u001b[0m \u001b[0msession\u001b[0m\u001b[1;33m.\u001b[0m\u001b[0mrequest\u001b[0m\u001b[1;33m(\u001b[0m\u001b[0mmethod\u001b[0m\u001b[1;33m=\u001b[0m\u001b[0mmethod\u001b[0m\u001b[1;33m,\u001b[0m \u001b[0murl\u001b[0m\u001b[1;33m=\u001b[0m\u001b[0murl\u001b[0m\u001b[1;33m,\u001b[0m \u001b[1;33m**\u001b[0m\u001b[0mkwargs\u001b[0m\u001b[1;33m)\u001b[0m\u001b[1;33m\u001b[0m\u001b[0m\n\u001b[0m\u001b[0;32m     50\u001b[0m     \u001b[1;31m# By explicitly closing the session, we avoid leaving sockets open which\u001b[0m\u001b[1;33m\u001b[0m\u001b[1;33m\u001b[0m\u001b[0m\n\u001b[0;32m     51\u001b[0m     \u001b[1;31m# can trigger a ResourceWarning in some cases, and look like a memory leak\u001b[0m\u001b[1;33m\u001b[0m\u001b[1;33m\u001b[0m\u001b[0m\n",
      "\u001b[1;32mC:\\Python27\\lib\\site-packages\\requests\\sessions.pyc\u001b[0m in \u001b[0;36mrequest\u001b[1;34m(self, method, url, params, data, headers, cookies, files, auth, timeout, allow_redirects, proxies, hooks, stream, verify, cert, json)\u001b[0m\n\u001b[0;32m    459\u001b[0m         }\n\u001b[0;32m    460\u001b[0m         \u001b[0msend_kwargs\u001b[0m\u001b[1;33m.\u001b[0m\u001b[0mupdate\u001b[0m\u001b[1;33m(\u001b[0m\u001b[0msettings\u001b[0m\u001b[1;33m)\u001b[0m\u001b[1;33m\u001b[0m\u001b[0m\n\u001b[1;32m--> 461\u001b[1;33m         \u001b[0mresp\u001b[0m \u001b[1;33m=\u001b[0m \u001b[0mself\u001b[0m\u001b[1;33m.\u001b[0m\u001b[0msend\u001b[0m\u001b[1;33m(\u001b[0m\u001b[0mprep\u001b[0m\u001b[1;33m,\u001b[0m \u001b[1;33m**\u001b[0m\u001b[0msend_kwargs\u001b[0m\u001b[1;33m)\u001b[0m\u001b[1;33m\u001b[0m\u001b[0m\n\u001b[0m\u001b[0;32m    462\u001b[0m \u001b[1;33m\u001b[0m\u001b[0m\n\u001b[0;32m    463\u001b[0m         \u001b[1;32mreturn\u001b[0m \u001b[0mresp\u001b[0m\u001b[1;33m\u001b[0m\u001b[0m\n",
      "\u001b[1;32mC:\\Python27\\lib\\site-packages\\requests\\sessions.pyc\u001b[0m in \u001b[0;36msend\u001b[1;34m(self, request, **kwargs)\u001b[0m\n\u001b[0;32m    571\u001b[0m \u001b[1;33m\u001b[0m\u001b[0m\n\u001b[0;32m    572\u001b[0m         \u001b[1;31m# Send the request\u001b[0m\u001b[1;33m\u001b[0m\u001b[1;33m\u001b[0m\u001b[0m\n\u001b[1;32m--> 573\u001b[1;33m         \u001b[0mr\u001b[0m \u001b[1;33m=\u001b[0m \u001b[0madapter\u001b[0m\u001b[1;33m.\u001b[0m\u001b[0msend\u001b[0m\u001b[1;33m(\u001b[0m\u001b[0mrequest\u001b[0m\u001b[1;33m,\u001b[0m \u001b[1;33m**\u001b[0m\u001b[0mkwargs\u001b[0m\u001b[1;33m)\u001b[0m\u001b[1;33m\u001b[0m\u001b[0m\n\u001b[0m\u001b[0;32m    574\u001b[0m \u001b[1;33m\u001b[0m\u001b[0m\n\u001b[0;32m    575\u001b[0m         \u001b[1;31m# Total elapsed time of the request (approximately)\u001b[0m\u001b[1;33m\u001b[0m\u001b[1;33m\u001b[0m\u001b[0m\n",
      "\u001b[1;32mC:\\Python27\\lib\\site-packages\\requests\\adapters.pyc\u001b[0m in \u001b[0;36msend\u001b[1;34m(self, request, stream, timeout, verify, cert, proxies)\u001b[0m\n\u001b[0;32m    413\u001b[0m \u001b[1;33m\u001b[0m\u001b[0m\n\u001b[0;32m    414\u001b[0m         \u001b[1;32mexcept\u001b[0m \u001b[1;33m(\u001b[0m\u001b[0mProtocolError\u001b[0m\u001b[1;33m,\u001b[0m \u001b[0msocket\u001b[0m\u001b[1;33m.\u001b[0m\u001b[0merror\u001b[0m\u001b[1;33m)\u001b[0m \u001b[1;32mas\u001b[0m \u001b[0merr\u001b[0m\u001b[1;33m:\u001b[0m\u001b[1;33m\u001b[0m\u001b[0m\n\u001b[1;32m--> 415\u001b[1;33m             \u001b[1;32mraise\u001b[0m \u001b[0mConnectionError\u001b[0m\u001b[1;33m(\u001b[0m\u001b[0merr\u001b[0m\u001b[1;33m,\u001b[0m \u001b[0mrequest\u001b[0m\u001b[1;33m=\u001b[0m\u001b[0mrequest\u001b[0m\u001b[1;33m)\u001b[0m\u001b[1;33m\u001b[0m\u001b[0m\n\u001b[0m\u001b[0;32m    416\u001b[0m \u001b[1;33m\u001b[0m\u001b[0m\n\u001b[0;32m    417\u001b[0m         \u001b[1;32mexcept\u001b[0m \u001b[0mMaxRetryError\u001b[0m \u001b[1;32mas\u001b[0m \u001b[0me\u001b[0m\u001b[1;33m:\u001b[0m\u001b[1;33m\u001b[0m\u001b[0m\n",
      "\u001b[1;31mConnectionError\u001b[0m: ('Connection aborted.', error(10060, '\\xb3s\\xbdu\\xb9\\xc1\\xb8\\xd5\\xa5\\xa2\\xb1\\xd1\\xa1A\\xa6]\\xac\\xb0\\xb3s\\xbdu\\xb9\\xef\\xb6H\\xa6\\xb3\\xa4@\\xacq\\xae\\xc9\\xb6\\xa1\\xa8\\xc3\\xa5\\xbc\\xa5\\xbf\\xbdT\\xa6^\\xc0\\xb3\\xa1A\\xa9\\xce\\xacO\\xb3s\\xbdu\\xab\\xd8\\xa5\\xdf\\xa5\\xa2\\xb1\\xd1\\xa1A\\xa6]\\xac\\xb0\\xb3s\\xbdu\\xaa\\xba\\xa5D\\xbe\\xf7\\xb5L\\xaak\\xa6^\\xc0\\xb3\\xa1C'))"
     ]
    }
   ],
   "source": [
    "# -*- coding:utf-8 -*-                                                                                                                                              \n",
    "import requests, time, sys\n",
    "from bs4 import BeautifulSoup\n",
    "start = time.time()\n",
    "count = 0\n",
    "for ddd in range(20141201, 20141231+1): #ranage裡面的值 是日期 請從這裡修改\n",
    "    day = str(ddd)\n",
    "    cnyse_html_day = open('cnyes_' + day + '.txt', 'w')\n",
    "    reload(sys)\n",
    "    sys.setdefaultencoding('utf-8')\n",
    "    typelist = ['headline', 'EVENT', 'tw_stock', 'future', 'energry', 'gold', 'fund', 'INDUSTRY']\n",
    "    for types in typelist:    \n",
    "        web = 'http://news.cnyes.com/' + types + '/sonews_' + day + day + '_1.htm'\n",
    "        response = requests.get(web)\n",
    "        response.encoding = 'utf-8'\n",
    "        soup = BeautifulSoup(response.text)\n",
    "        pagenumber = int(str(soup.select('.list_1.bd_dbottom')[-1]).split('共')[1].split('頁')[0])\n",
    "        #print pagenumber\n",
    "        hrefformula = web.split('_1')[0] + '_' + '%d' + web.split('_1')[1]\n",
    "        #print hrefformula\n",
    "        for page in range(1, pagenumber+1):\n",
    "            res = requests.get(hrefformula%(page))\n",
    "            res.encoding = 'utf-8'    #print res.text\n",
    "            soup1 = BeautifulSoup(res.text)\n",
    "            #print soup1\n",
    "            elements = soup1.select('.list_1.bd_dbottom')[1:9]\n",
    "            #print elements \n",
    "            for element in elements:\n",
    "                items = element.select('li')\n",
    "                #print items\n",
    "                for item in items:\n",
    "                    if item.select('strong') != []:\n",
    "                        if item.select('a')[0].text != '[報摘頭條]' and len(item.select('a')[0].text.split('公告')) == 1 and item.select('a')[0].text != '[融資券]'and item.select('a')[0].text != '[統計表格]':\n",
    "                            subtitle = item.select('a')[0].text\n",
    "                            href = item.select('a')[1]['href']\n",
    "                            resp = requests.get('http://news.cnyes.com' + href) \n",
    "                            resp.encoding = 'utf-8'\n",
    "                            #print response.text\n",
    "                            soup2 = BeautifulSoup(resp.text)\n",
    "                            #print soup2\n",
    "                            if len(soup2.select('.newsContent.bg_newsPage_Lblue')) != 0:\n",
    "                                elements1 = soup2.select('.newsContent.bg_newsPage_Lblue')[0]\n",
    "                                title = elements1.select('h1')[0].text\n",
    "                                info = elements1.select('.info')[0].text\n",
    "                                date = ('2014' + info.split('2014')[1])[:10]\n",
    "                                information = info.split('2014')[0]\n",
    "                                contents = elements1.select('#newsText p')\n",
    "                                item = ''\n",
    "                                for content in contents:\n",
    "                                    if len(content.select('img')) == 0:\n",
    "                                        if len(content.select('p')) == 0:\n",
    "                                            item = item + content.text\n",
    "                                        else:\n",
    "                                            recontents = content.select('p')\n",
    "                                            for recontent in recontents:\n",
    "                                                item = item + recontent.text        \n",
    "                                if len(soup2.select('#mypagezone')) != 0 and len(soup2.select('#mypagezone')[0].select('a')) != 0:  \n",
    "                                    webfor = 'http://news.cnyes.com/' + day +'/' + soup2.select('#mypagezone')[0].select('a')[-1]['href']\n",
    "                                    i = 2\n",
    "                                    while True:\n",
    "                                        web3 = webfor.split('.shtml')[0][:-2] + '_' + str(i) + '.shtml'     \n",
    "                                        response3 = requests.get(web3)\n",
    "                                        response3.encoding = 'utf-8'\n",
    "                                        soup3 = BeautifulSoup(response3.text)\n",
    "                                        elements3 = soup3.select('.newsContent.bg_newsPage_Lblue')[0]\n",
    "                                        contents3 = elements3.select('#newsText p')\n",
    "                                        for content3 in contents3:\n",
    "                                            if len(content3.select('img')) == 0:\n",
    "                                                if len(content3.select('p')) == 0:\n",
    "                                                    item = item + content3.text\n",
    "                                                else:\n",
    "                                                    recontents3 = content3.select('p')\n",
    "                                                    for recontent3 in recontents3:\n",
    "                                                        item = item + recontent3.text\n",
    "                                        i = i + 1\n",
    "                                        if soup3.select('#mypagezone')[0].select('a')[-1].text.encode('utf-8').find('下') != 1: \n",
    "                                            break\n",
    "                                cnyse_html_day.write(types + ',' + subtitle + ',' + title + ',' + date + ',' + \"\".join(item.split()) + ',' + information + '\\n')\n",
    "                                count = count+1\n",
    "                                print count\n",
    "                            else:\n",
    "                                print 'http://news.cnyes.com' + href + '\\n'     \n",
    "                                count = count+1\n",
    "                                print count\n",
    "    cnyse_html_day.close()\n",
    "end = time.time()\n",
    "print end - start"
   ]
  },
  {
   "cell_type": "code",
   "execution_count": null,
   "metadata": {
    "collapsed": true
   },
   "outputs": [],
   "source": []
  },
  {
   "cell_type": "code",
   "execution_count": 35,
   "metadata": {
    "collapsed": false
   },
   "outputs": [],
   "source": [
    "# -*- coding:utf-8 -*-\n",
    "import requests, time, sys\n",
    "from bs4 import BeautifulSoup\n",
    "start = time.time()\n",
    "cnyse_html_total = open('cnyse_html_total.txt', 'w')\n",
    "reload(sys)\n",
    "sys.setdefaultencoding('utf-8')\n",
    "web = 'http://news.cnyes.com/Ajax.aspx?Module=GetRollNews'\n",
    "data = {'date':'20150330'}\n",
    "response = requests.post(web, data = data)\n",
    "response.encoding = 'utf-8'\n",
    "soup = BeautifulSoup(response.text)\n",
    "#print soup\n",
    "elements = soup.select('snewssavepath')\n",
    "count = 0\n",
    "for element in elements:\n",
    "    res = requests.get('http://news.cnyes.com/' + element.text)\n",
    "    res.encoding = 'utf-8'\n",
    "    #print res.text\n",
    "    soup1 = BeautifulSoup(res.text)\n",
    "    #print soup1\n",
    "    elements1 = soup1.select('.newsContent.bg_newsPage_Lblue')[0]\n",
    "    title = elements1.select('h1')[0].text\n",
    "    info = elements1.select('.info')[0].text\n",
    "    date = ('2015' + info.split('2015')[1])[:10]\n",
    "    information = info.split('2015')[0]\n",
    "    contents = elements1.select('#newsText p')\n",
    "    item = ''\n",
    "    for content in contents:\n",
    "        item = item + content.text\n",
    "    cnyse_html_total.write(title + ',' + date + ',' + item + ',' + information + '\\n')\n",
    "    count = count+1\n",
    "    print count\n",
    "end = time.time()\n",
    "print end - start"
   ]
  },
  {
   "cell_type": "code",
   "execution_count": 4,
   "metadata": {
    "collapsed": true
   },
   "outputs": [],
   "source": []
  },
  {
   "cell_type": "code",
   "execution_count": 4,
   "metadata": {
    "collapsed": false
   },
   "outputs": [
    {
     "name": "stdout",
     "output_type": "stream",
     "text": [
      "甲醇基本面平穩 期價延續震盪格局\n",
      "鉅亨網新聞中心　(來源：和訊網)　2015-03-30  16:31　\n",
      "周內甲醇期價一度沖高回落，市場交投氣氛減弱。現貨市場價格漲跌不一，基本面表現平穩，甲醇價格或繼續維持震盪局面。\n",
      "1、甲醇現貨價格漲跌互現\n",
      "上周，華北地區甲醇現貨中間價回落至1950元/噸附近，與3月初水平相當；華南地區甲醇現貨中間價上漲20元/噸至2295元/噸；華東地區甲醇現貨中間價周內最低至2385元/噸，最高2415元/噸；西北地區甲醇現貨中間價由上周末的1950元/噸回落至1890元/噸；西南地區甲醇現貨中間價由2175元/噸上漲至2240元/噸；東北地區甲醇現貨中間價由2225元/噸附近上漲至2290元/噸；華中地區甲醇現貨價由2235元/噸回落至2190元/噸。\n",
      "國際甲醇價格企穩回升。其中，中國主港周內平穩為主，但臨近周末漲幅較大，導致cfr中國主港甲醇現貨中間價格周內漲13美元/噸；cfr東南亞甲醇現貨價格小幅上漲3.5美元/噸；歐洲市場因中東到貨減少，供應預期偏緊，fob鹿特丹甲醇現貨價格平穩；美國市場供應穩定，fob美國海灣甲醇現貨價格漲1美元/噸。\n",
      "2、開工率下降，庫存平穩\n",
      "據石化資訊網統計，甲醇開工率小幅回落，本周至50.20%（-0.84%）。 本周裝置除之前中原大化、金誠泰、山東新能鳳凰、中海油等停車裝置以外，另有蒲城能源裝置停車，其余主流工廠裝置基本正常運行，山西地區因環保原因，限產企業較多，供應量偏少，西北地區基本正常運行。\n",
      "甲醇港口庫存止跌回升，尤其以江蘇地區港口庫存回升明顯，但華南地區有回落。具體為，江蘇38.5（+3.2）萬噸，寧波18.3（+0.5）萬噸，華南30.4（-3.6）萬噸，合計87.2（+0.1）萬噸。\n",
      "3、需求端表現平穩\n",
      "因下游板材、膠廠開工情況不佳，國內甲醛市場運行平穩；部分醋酸廠家檢修導致醋酸供應預期減少，外加近期出口訂單增加，醋酸價格堅挺；周內液化氣行情回暖，但二甲醚企業庫存較高，需求並無明顯好轉；受原油市場反彈提振，mtbe企業挺價意愿強；烯烴裝置變動不大，山東陽煤恒通預計4月份試車，興興能源計劃月底投產，目前原料儲備較為充足。\n",
      "1\n"
     ]
    }
   ],
   "source": [
    "# -*- coding:utf-8 -*-\n",
    "import requests, time\n",
    "from bs4 import BeautifulSoup\n",
    "response = requests.get('http://news.cnyes.com/20150330/%E7%94%B2%E9%86%87%E5%9F%BA%E6%9C%AC%E9%9D%A2%E5%B9%B3%E7%A9%A9-%E6%9C%9F%E5%83%B9%E5%BB%B6%E7%BA%8C%E9%9C%87%E8%95%A9%E6%A0%BC%E5%B1%80-163104908944510.shtml?c=INDUSTRY')\n",
    "response.encoding = 'utf-8'\n",
    "#print response.text\n",
    "soup = BeautifulSoup(response.text)\n",
    "#print soup\n",
    "elements = soup.select('.newsContent.bg_newsPage_Lblue')[0]\n",
    "title = elements.select('h1')[0].text\n",
    "info = elements.select('.info')[0].text\n",
    "print title\n",
    "print info.encode('utf-8')\n",
    "contents = elements.select('#newsText p')\n",
    "for content in contents:\n",
    "    if len(content.select('img')) == 0:\n",
    "        if len(content.select('p')) == 0:\n",
    "            print content.text\n",
    "        else:\n",
    "            recontents = content.select('p')\n",
    "            for recontent in recontents:\n",
    "                print recontent.text\n",
    "if len(soup.select('#mypagezone')[0].select('a')) != 0:\n",
    "    print 1\n",
    "    webfor = 'http://news.cnyes.com/20150330/' + soup.select('#mypagezone')[0].select('a')[-1]['href']\n",
    "    i = 2\n",
    "    while True:        \n",
    "        web = webfor.split('.shtml')[0][:-2] + '_' + str(i) + '.shtml'   \n",
    "        response = requests.get(web)\n",
    "        response.encoding = 'utf-8'\n",
    "        soup = BeautifulSoup(response.text)\n",
    "        elements = soup.select('.newsContent.bg_newsPage_Lblue')[0]\n",
    "        contents = elements.select('#newsText p')\n",
    "        for content in contents:\n",
    "            if len(content.select('img')) == 0:\n",
    "                if len(content.select('p')) == 0:\n",
    "                    print content.text\n",
    "                else:\n",
    "                    recontents = content.select('p')\n",
    "                    for recontent in recontents:\n",
    "                        print recontent.text\n",
    "        i = i + 1\n",
    "        if soup.select('#mypagezone')[0].select('a')[-1].text.encode('utf-8').find('下') != 1: \n",
    "            break\n"
   ]
  },
  {
   "cell_type": "code",
   "execution_count": null,
   "metadata": {
    "collapsed": true
   },
   "outputs": [],
   "source": []
  },
  {
   "cell_type": "code",
   "execution_count": 38,
   "metadata": {
    "collapsed": false
   },
   "outputs": [],
   "source": [
    "# -*- coding:utf-8 -*-\n",
    "import requests, time, sys\n",
    "from bs4 import BeautifulSoup\n",
    "day = '20150330'\n",
    "start = time.time()\n",
    "cnyse_html_INDUSTRY = open('cnyse_html_INDUSTRY1.txt', 'w')\n",
    "reload(sys)\n",
    "sys.setdefaultencoding('utf-8')\n",
    "count = 0\n",
    "resp = requests.get('http://news.cnyes.com/20150330/20150330083507738550410_2.shtml') \n",
    "resp.encoding = 'utf-8'\n",
    "#print response.text\n",
    "soup2 = BeautifulSoup(resp.text)\n",
    "#print soup2\n",
    "if len(soup2.select('.newsContent.bg_newsPage_Lblue')) != 0:\n",
    "    elements1 = soup2.select('.newsContent.bg_newsPage_Lblue')[0]\n",
    "    title = elements1.select('h1')[0].text\n",
    "    info = elements1.select('.info')[0].text\n",
    "    date = ('2015' + info.split('2015')[1])[:10]\n",
    "    information = info.split('2015')[0]\n",
    "    contents = elements1.select('#newsText p')\n",
    "    item = ''\n",
    "    for content in contents:\n",
    "        if len(content.select('img')) == 0:\n",
    "            if len(content.select('p')) == 0:\n",
    "                item = item + content.text\n",
    "            else:\n",
    "                recontents = content.select('p')\n",
    "                for recontent in recontents:\n",
    "                    item = item + recontent.text        \n",
    "    if len(soup2.select('#mypagezone')[0].select('a')) != 0:  \n",
    "        webfor = 'http://news.cnyes.com/' + day +'/' + soup2.select('#mypagezone')[0].select('a')[-1]['href']\n",
    "        i = 2\n",
    "        while True:\n",
    "            web3 = webfor.split('.shtml')[0][:-2] + '_' + str(i) + '.shtml'     \n",
    "            response3 = requests.get(web3)\n",
    "            response3.encoding = 'utf-8'\n",
    "            soup3 = BeautifulSoup(response3.text)\n",
    "            elements3 = soup3.select('.newsContent.bg_newsPage_Lblue')[0]\n",
    "            contents3 = elements3.select('#newsText p')\n",
    "            for content3 in contents3:\n",
    "                if len(content3.select('img')) == 0:\n",
    "                    if len(content3.select('p')) == 0:\n",
    "                        item = item + content3.text\n",
    "                    else:\n",
    "                        recontents3 = content3.select('p')\n",
    "                        for recontent3 in recontents3:\n",
    "                            item = item + recontent3.text\n",
    "            i = i + 1\n",
    "            if soup3.select('#mypagezone')[0].select('a')[-1].text.encode('utf-8').find('下') != 1: \n",
    "                break\n",
    "    cnyse_html_INDUSTRY.write(title + ',' + date + ',' + \"\".join(item.split()) + ',' + information + '\\n')\n",
    "    count = count+1\n",
    "    print count\n",
    "else:\n",
    "    print 'http://news.cnyes.com' + href + '\\n'     \n",
    "    count = count+1\n",
    "    print count\n",
    "cnyse_html_INDUSTRY.close()\n",
    "end = time.time()\n",
    "print end - start"
   ]
  },
  {
   "cell_type": "code",
   "execution_count": null,
   "metadata": {
    "collapsed": true
   },
   "outputs": [],
   "source": []
  },
  {
   "cell_type": "code",
   "execution_count": null,
   "metadata": {
    "collapsed": true
   },
   "outputs": [],
   "source": []
  }
 ],
 "metadata": {
  "kernelspec": {
   "display_name": "Python 2",
   "language": "python",
   "name": "python2"
  },
  "language_info": {
   "codemirror_mode": {
    "name": "ipython",
    "version": 2
   },
   "file_extension": ".py",
   "mimetype": "text/x-python",
   "name": "python",
   "nbconvert_exporter": "python",
   "pygments_lexer": "ipython2",
   "version": "2.7.9"
  }
 },
 "nbformat": 4,
 "nbformat_minor": 0
}
