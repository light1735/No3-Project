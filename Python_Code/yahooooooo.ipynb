{
 "cells": [
  {
   "cell_type": "code",
   "execution_count": 3,
   "metadata": {
    "collapsed": false
   },
   "outputs": [
    {
     "name": "stdout",
     "output_type": "stream",
     "text": [
      "https://tw.news.yahoo.com/這4堂課-你千萬不要跟他學-獨家體檢-柯p理財成績單-152548027--finance.html\n",
      "https://tw.news.yahoo.com/李焜耀大病初癒後的深層體悟-友達大反攻-152548201--finance.html\n",
      "https://tw.news.yahoo.com/40年事業夥伴翻臉變仇人-林榮錦-v-蕭英鈞-東洋恩仇錄-012856248--finance.html\n",
      "https://tw.news.yahoo.com/展訊挖走核心戰將-爭中國-設計霸主-聯發科眼中的叛將-袁帝文的沉痛復仇-012856214--finance.html\n",
      "https://tw.news.yahoo.com/若經通膨調整-還需再漲2000點才算高峰-那斯達克又見5000點-不再是泡沫-132853813--finance.html\n",
      "https://tw.news.yahoo.com/辭去總經理-聚焦十奈米-漢微科攀頂-全看招允佳的美國計畫-132853960--finance.html\n",
      "https://tw.news.yahoo.com/地皮炒過頭-藍綠變天戳破泡沫-航空城夢碎-132853318--finance.html\n",
      "https://tw.news.yahoo.com/投資新顯學-熱區總解析-145636235--finance.html\n",
      "https://tw.news.yahoo.com/晶電李秉傑-國碩蔡禮全-都是新科工研院長的學生-145636392--finance.html\n",
      "https://tw.news.yahoo.com/台達電董事長海英俊-輕工業機器人大爆發-110316415--finance.html\n",
      "https://tw.news.yahoo.com/富足退休的早鳥計畫-別讓退休不開心-110316505.html\n",
      "https://tw.news.yahoo.com/歐洲qe財神到-敢買台股賺更大-082552487.html\n",
      "https://tw.news.yahoo.com/財部抓大咖-富比世名單洩天機-082552354--finance.html\n",
      "https://tw.news.yahoo.com/挑戰張忠謀門檻-對抗三星崛起-082552609--finance.html\n",
      "https://tw.news.yahoo.com/郭台銘與段行建形同陌路-群創與鴻海的恩怨瓜葛-134532417--finance.html\n",
      "https://tw.news.yahoo.com/財政部查稅-別把柯文哲逼上總統路-134532919--finance.html\n",
      "https://tw.news.yahoo.com/報紙變形-計-失去的閱報率-用點擊率賺回來-134333596--finance.html\n",
      "https://tw.news.yahoo.com/王文淵退讓-李寶珠成台灣最有權勢的女人-134333572--finance.html\n",
      "https://tw.news.yahoo.com/晶電搶親台積固態內幕-134333897--finance.html\n",
      "https://tw.news.yahoo.com/日本現場直擊-電動車最害怕的殺手來了-134333426--finance.html\n",
      "https://tw.news.yahoo.com/超級神祕地主-坐擁中山區百億元資產-140110738--finance.html\n",
      "https://tw.news.yahoo.com/贏在責任力-2014消費者金融品牌暨金控c-r大獎揭曉-154722943--finance.html\n",
      "https://tw.news.yahoo.com/獨家揭開內湖地王家族神祕面紗-154722749--finance.html\n",
      "https://tw.news.yahoo.com/王文淵感性憶父-王永在是-全世界最好的弟弟-154722088--finance.html\n",
      "https://tw.news.yahoo.com/吳東亮血淚控訴-365億只買到3張紙-012931400--finance.html\n"
     ]
    }
   ],
   "source": [
    "from bs4 import BeautifulSoup\n",
    "import requests\n",
    "\n",
    "url = \"https://tw.news.yahoo.com\"\n",
    "res = requests.get(\"https://tw.news.yahoo.com/monthly.wealth.com.tw--finance/archive/1.html\")\n",
    "                    \n",
    "res.encoding=\"utf-8\"\n",
    "soup = BeautifulSoup(res.text)\n",
    "entry  = soup.select(\".story\")\n",
    "#print entry\n",
    "\n",
    "for item in entry:\n",
    "    #print item.select(\".d0_2\")\n",
    "    print url+item.select('a')[0]['href']"
   ]
  },
  {
   "cell_type": "code",
   "execution_count": 24,
   "metadata": {
    "collapsed": false
   },
   "outputs": [
    {
     "name": "stdout",
     "output_type": "stream",
     "text": [
      "2015年4月8日-下午11:25-這4堂課你千萬不要跟他學獨家體檢柯P理財成績單-財訊\n",
      "2\n"
     ]
    }
   ],
   "source": [
    "from bs4 import BeautifulSoup\n",
    "import requests\n",
    "\n",
    "url = \"https://tw.news.yahoo.com\"\n",
    "res = requests.get(\"https://tw.news.yahoo.com/%E9%80%994%E5%A0%82%E8%AA%B2-%E4%BD%A0%E5%8D%83%E8%90%AC%E4%B8%8D%E8%A6%81%E8%B7%9F%E4%BB%96%E5%AD%B8-%E7%8D%A8%E5%AE%B6%E9%AB%94%E6%AA%A2-%E6%9F%AFp%E7%90%86%E8%B2%A1%E6%88%90%E7%B8%BE%E5%96%AE-152548027--finance.html\")\n",
    "                    \n",
    "res.encoding=\"utf-8\"\n",
    "soup = BeautifulSoup(res.text)\n",
    "entry  = soup.select(\".headline\")\n",
    "title = \"\".join(entry[0].text.split())\n",
    "\n",
    "entry2 = soup.select(\".byline\")\n",
    "new = entry2[0].text.split(\"|\")[1].split()[0]\n",
    "date = entry2[0].text.split(\"|\")[1].split()[2]\n",
    "time = entry2[0].text.split(\"|\")[1].split()[3]\n",
    "print date+\"-\"+time+\"-\"+title+\"-\"+new\n",
    "print len(entry2[0].text.split(\"|\"))\n"
   ]
  },
  {
   "cell_type": "code",
   "execution_count": 39,
   "metadata": {
    "collapsed": false
   },
   "outputs": [
    {
     "name": "stdout",
     "output_type": "stream",
     "text": [
      "財訊雙週刊\n",
      "2015年3月11日\n",
      "下午9:28\n"
     ]
    }
   ],
   "source": [
    "from bs4 import BeautifulSoup\n",
    "import requests\n",
    "\n",
    "url = \"https://tw.news.yahoo.com\"\n",
    "res = requests.get(\"https://tw.news.yahoo.com/%E8%BE%AD%E5%8E%BB%E7%B8%BD%E7%B6%93%E7%90%86-%E8%81%9A%E7%84%A6%E5%8D%81%E5%A5%88%E7%B1%B3-%E6%BC%A2%E5%BE%AE%E7%A7%91%E6%94%80%E9%A0%82-%E5%85%A8%E7%9C%8B%E6%8B%9B%E5%85%81%E4%BD%B3%E7%9A%84%E7%BE%8E%E5%9C%8B%E8%A8%88%E7%95%AB-132853960--finance.html\")\n",
    "                    \n",
    "res.encoding=\"utf-8\"\n",
    "soup = BeautifulSoup(res.text)\n",
    "entry  = soup.select(\".headline\")\n",
    "title = \"\".join(entry[0].text.split())\n",
    "\n",
    "entry2 = soup.select(\".byline\")\n",
    "new = entry2[0].text.split(\"|\")[len(entry2[0].text.split(\"|\"))-1].split()[0]\n",
    "print new \n",
    "date = entry2[0].text.split(\"|\")[len(entry2[0].text.split(\"|\"))-1].split()[2]\n",
    "print date\n",
    "time = entry2[0].text.split(\"|\")[len(entry2[0].text.split(\"|\"))-1].split()[3]\n",
    "print time"
   ]
  },
  {
   "cell_type": "code",
   "execution_count": null,
   "metadata": {
    "collapsed": true
   },
   "outputs": [],
   "source": []
  },
  {
   "cell_type": "code",
   "execution_count": 27,
   "metadata": {
    "collapsed": false
   },
   "outputs": [
    {
     "name": "stdout",
     "output_type": "stream",
     "text": [
      "「隨著東洋董事長蕭英鈞指控前董事長林榮錦後，東洋集團與晟德集團也正式劃清界線。在生技業叱吒風雲20年，被稱為「生技教父」、「生技艾科卡」的林榮錦，過去領導東洋的功績顯赫，但現在卻得面對官司，釐清他與東洋、晟德及Inopha AG之間的撲朔迷離關係……。我是在東洋最美好的時候離開的！」身為東洋前董事長的林榮錦，對於2014年6月在無預警下無奈辭去東洋董座後，第一次面對媒體吐露心聲，言談間仍讓人聽得出有些怨懟。不滿，或是抱怨，當然可以理解。尤其今年1月7日，在林榮錦辭去東洋董事長職務半年後，就因被控涉嫌掏空東洋而遭檢調搜索、偵訊，並限制出境；引爆這場戰爭的，正是和林榮錦熟識超過四十年的同窗戰友，現任東洋董事長蕭英鈞。林榮錦長期擔任東洋集團董事長，也是集團兩大核心東洋與晟德的靈魂人物。在與蕭英鈞絕裂之前，雙方關係極為緊密，連兩家公司的總部都同樣位在南港軟體園區內，一家在Ｇ棟，另一家在Ｈ棟，相距不到100公尺，兩家員工聯繫宛若一家人，大半消息都互通有無。但這樣的關係，隨著林榮錦與蕭英鈞的這場官司而正式劃清界線。如今，雙方陣營的高階主管在大樓裡碰了面，即使招呼寒暄，也難掩尷尬，不難看出彼此間的緊張氣氛。路線之爭？林：分手是遲早的事林榮錦對著記者感嘆地說，其實，他很希望能帶領東洋，邁入全球化。他最後離開時留給東洋的，有3顆微脂體研發已見成果的大藥，及當初轉投資包括智擎、東生華等至今帳面累積獲利高達60億元左右的股票，只要穩健地做，東洋未來幾年可以很美好。不到一天的時間，這番話傳入東洋的耳裡，卻顯得很不是滋味。東洋副董事長曾天賜反駁說，「東洋是好是壞，股價會說話。」過去3年來，東洋股價由高點150元跌至現在的70多元，幾乎腰斬；但是，晟德卻由30多元漲到119元，漲幅幾乎接近3倍，「同樣是林榮錦當董事長，大小漢哪ㄟ差這麼多？」曾天賜忿忿不平的用台語數落著東洋如何受到林榮錦的不公平待遇。事實上，林榮錦早在3年多前就覺得，他和老同學蕭英鈞的分開是遲早的問題，只是他沒想到會鬧到如此難堪的地步。「那時開始，每一次開完董事會後，我都會難過到沒辦法睡覺、失眠。」「我太太說，你又不缺錢，那麼痛苦幹嘛還做？」林榮錦失望訴說著他和蕭英鈞理念的差異；他說，當他想帶領東洋往前衝的時候，總是在董事會上被蕭英鈞擋下，讓很多投資案都無法推展下去。林榮錦解釋，他一直希望可以在東洋多做些事，但不斷受阻後，他規畫的生技工業銀行很自然地就轉而在晟德實現，「因為我在晟德是全體支持的狀態下，放手去做轉投資的！」就以智擎為例，10多年前的智擎是一家沒人敢投資的生技公司，籌資四處碰壁，就只差沒跪下來求人。有一次，「我和現在的元富董事長陳俊宏，在國父紀念館前苦惱智擎發不出薪水的問題，當時，葉常菁博士說還欠500萬美元。結果，最後都是我林榮錦借錢度過難關的……。」林榮錦激動地說，永昕的投資案，10年前就在東洋董事會討論過，但是遭到否決。晟德13、14年前，也準備給東洋投資，一樣還沒開始談就被否決。「所以，外界說林榮錦是養金雞政策，這是不正確的。」林榮錦拉高音量回應，「不是養金雞，是養將才。我不是投資一顆新藥、一顆新藥去投資，我是投正確的人，智擎就是如此。」因為只要是對的人，他毫無遲疑。「但在東洋，一切先看ＥＰＳ（每股稅後純益）。」林榮錦認為，生技業的發展不該這樣，他敢拚敢衝，卻因蕭英鈞的保守謹慎，一切都被綁死了，而這也是外界認為雙方漸行漸遠的關鍵原因。就市場上的認知，林榮錦是行動派，有機會就願意嘗試，與東洋另一位大股東蕭英鈞有很大的差別。30年來一向低調的蕭英鈞，鮮少與市場打交道，直到去年接了東洋董事長後才浮上台面。外界對他的熟悉遠不如林榮錦，無形間被解讀的既定印象就成為低調保守的人。\n"
     ]
    }
   ],
   "source": [
    "from bs4 import BeautifulSoup\n",
    "import requests\n",
    "\n",
    "res = requests.get(\"https://tw.news.yahoo.com/40%E5%B9%B4%E4%BA%8B%E6%A5%AD%E5%A4%A5%E4%BC%B4%E7%BF%BB%E8%87%89%E8%AE%8A%E4%BB%87%E4%BA%BA-%E6%9E%97%E6%A6%AE%E9%8C%A6-v-%E8%95%AD%E8%8B%B1%E9%88%9E-%E6%9D%B1%E6%B4%8B%E6%81%A9%E4%BB%87%E9%8C%84-012856248--finance.html\")\n",
    "                         \n",
    "res.encoding=\"utf-8\"\n",
    "soup = BeautifulSoup(res.text)\n",
    "entry  = soup.select(\".yom-art-content\")[0].select('p')\n",
    "content = ''\n",
    "#print len(entry)\n",
    "for item in entry:\n",
    "    content += item.text.strip()\n",
    "\n",
    "aticle2  = \"\".join(content.split('\\n'))\n",
    "print aticle2"
   ]
  },
  {
   "cell_type": "code",
   "execution_count": 43,
   "metadata": {
    "collapsed": false
   },
   "outputs": [],
   "source": [
    "from bs4 import BeautifulSoup\n",
    "import requests,time\n",
    "\n",
    "home = \"https://tw.news.yahoo.com\"\n",
    "url = \"https://tw.news.yahoo.com/monthly.wealth.com.tw--finance/archive/{}.html\"\n",
    "wealthText = open('D:\\\\python\\\\wealth.txt', 'w')\n",
    "count = 0\n",
    "\n",
    "for i in range(1,5):\n",
    "    res = requests.get(url.format(i))\n",
    "    res.encoding=\"utf-8\"\n",
    "    soup = BeautifulSoup(res.text)\n",
    "    entry  = soup.select(\".story\")\n",
    "\n",
    "    for item in entry:\n",
    "        article_url = home+item.select('a')[0]['href']\n",
    "        res = requests.get(article_url)             \n",
    "        res.encoding=\"utf-8\"\n",
    "        soup = BeautifulSoup(res.text)\n",
    "        \n",
    "        entry  = soup.select(\".headline\")\n",
    "        title = \"\".join(entry[0].text.split())   \n",
    "        entry2 = soup.select(\".byline\")\n",
    "        new = entry2[0].text.split(\"|\")[len(entry2[0].text.split(\"|\"))-1].split()[0]\n",
    "        date = entry2[0].text.split(\"|\")[len(entry2[0].text.split(\"|\"))-1].split()[2]\n",
    "        time = entry2[0].text.split(\"|\")[len(entry2[0].text.split(\"|\"))-1].split()[3]\n",
    "        \n",
    "        entry3  = soup.select(\".yom-art-content\")[0].select('p')\n",
    "        article = ''\n",
    "        #print len(entry)\n",
    "        for item in entry3:\n",
    "            article += item.text.strip()\n",
    "        \n",
    "        aticle_mix  = \"\".join(article.split('\\n'))\n",
    "        wealth =  date+\"-\"+time+\"-\"+title+\"-\"+new+\"-\"+article_url+\"-\"+aticle_mix\n",
    "        wealthText.write(wealth.encode(\"utf-8\")+\"\\n\")\n",
    "        count +=1\n",
    "\n",
    "wealthText.write(str(count))\n",
    "wealthText.close()\n",
    "\n",
    "\n",
    "    "
   ]
  }
 ],
 "metadata": {
  "kernelspec": {
   "display_name": "Python 2",
   "language": "python",
   "name": "python2"
  },
  "language_info": {
   "codemirror_mode": {
    "name": "ipython",
    "version": 2
   },
   "file_extension": ".py",
   "mimetype": "text/x-python",
   "name": "python",
   "nbconvert_exporter": "python",
   "pygments_lexer": "ipython2",
   "version": "2.7.9"
  }
 },
 "nbformat": 4,
 "nbformat_minor": 0
}
